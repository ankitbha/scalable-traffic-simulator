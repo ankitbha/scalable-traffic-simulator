{
 "cells": [
  {
   "cell_type": "code",
   "execution_count": 245,
   "id": "dd0a2626-b2f0-4b0b-a373-07ce8d70bf7c",
   "metadata": {},
   "outputs": [],
   "source": [
    "import queue\n",
    "import numpy as np\n",
    "import math\n",
    "import matplotlib.pyplot as plt"
   ]
  },
  {
   "cell_type": "markdown",
   "id": "d5a036c0-62ac-4ede-9c40-160ddc974176",
   "metadata": {},
   "source": [
    "# Traffic Curve Lookup Table"
   ]
  },
  {
   "cell_type": "code",
   "execution_count": 109,
   "id": "3d2f4a62-be52-46a0-aaf7-f072bf8f951c",
   "metadata": {},
   "outputs": [],
   "source": [
    "speed_lim = []\n",
    "for i in range(0,22):\n",
    "    b = i/100\n",
    "    s = 9.9\n",
    "    c = (b*s)/4\n",
    "    speed_lim.append([b,c,s])"
   ]
  },
  {
   "cell_type": "code",
   "execution_count": 110,
   "id": "f7836dbf-e678-41ef-b676-6a9bdb804dad",
   "metadata": {},
   "outputs": [],
   "source": [
    "lookup = []\n",
    "for i in range(54,100):\n",
    "    s = i/10\n",
    "    b = 4.0/(4.0+0.675*s+0.076*(s**2))\n",
    "    c = s/(4.0+0.675*s+0.076*(s**2))\n",
    "    lookup.append([b,c,s])\n",
    "lookup = lookup[::-1]"
   ]
  },
  {
   "cell_type": "code",
   "execution_count": 111,
   "id": "678b4ef7-3ef7-413a-8c38-e88ed358176d",
   "metadata": {},
   "outputs": [],
   "source": [
    "lookup = speed_lim + lookup"
   ]
  },
  {
   "cell_type": "code",
   "execution_count": 112,
   "id": "0e40c1b3-5381-40af-accf-4a735b02e837",
   "metadata": {},
   "outputs": [],
   "source": [
    "for i in range(41,76):\n",
    "    b = i/100\n",
    "    c = 0.54*math.exp(-(b-0.40)*6.799)\n",
    "    s = (4*c)/b\n",
    "    lookup.append([b,c,s])"
   ]
  },
  {
   "cell_type": "code",
   "execution_count": 113,
   "id": "4d3b722b-0fdb-4359-8732-ead1a8255d60",
   "metadata": {},
   "outputs": [],
   "source": [
    "for i in range(76,101):\n",
    "    b = i/100\n",
    "    c = 0.05\n",
    "    s = 0.27\n",
    "    lookup.append([b,c,s])"
   ]
  },
  {
   "cell_type": "code",
   "execution_count": 114,
   "id": "86bb2336-e4f3-4fa7-9ce6-82cd04ecc1ab",
   "metadata": {},
   "outputs": [],
   "source": [
    "lookup = np.array(lookup)"
   ]
  },
  {
   "cell_type": "code",
   "execution_count": 115,
   "id": "c62456bd-824e-47fb-b4d5-d6b2c0d091c1",
   "metadata": {},
   "outputs": [],
   "source": [
    "curve = []\n",
    "for i in range(0,101):\n",
    "    l = i/100\n",
    "    row = lookup[(lookup[:,0]>=l) & (lookup[:,0]<l+0.01)].mean(axis=0).tolist()\n",
    "    row[0] = l\n",
    "    row[1] = round(row[1],2)\n",
    "    row[2] = round(row[2],2)\n",
    "    curve.append(row)"
   ]
  },
  {
   "cell_type": "code",
   "execution_count": 164,
   "id": "9d80b0d1-ad5d-438f-b9ee-38032cf0dc2d",
   "metadata": {},
   "outputs": [],
   "source": [
    "curve = np.array(curve)"
   ]
  },
  {
   "cell_type": "markdown",
   "id": "234bba45-5726-4766-9407-071295623ed3",
   "metadata": {},
   "source": [
    "# Simulator"
   ]
  },
  {
   "cell_type": "code",
   "execution_count": 655,
   "id": "7127abdf-2e2d-4705-b344-9e2f37e8f887",
   "metadata": {},
   "outputs": [],
   "source": [
    "class simulator:\n",
    "    def __init__(self, edges, lengths, input_edges, next_edge, curve, merges):\n",
    "        self.edges = edges\n",
    "        self.lengths = lengths\n",
    "        self.input_edges = input_edges\n",
    "        self.next_edge = next_edge\n",
    "        self.curve = curve\n",
    "        self.merges = merges\n",
    "        self.time = 0\n",
    "        self.throughput = []\n",
    "        self.buffers = {}\n",
    "        self.edge_inputs = {}\n",
    "        self.edge_outputs = {}\n",
    "        self.eligible = {}\n",
    "        for edge in self.edges:\n",
    "            self.buffers[edge] = queue.Queue(int(self.lengths[edge]/4))\n",
    "            self.edge_inputs[edge] = 0\n",
    "            self.edge_outputs[edge] = 0\n",
    "            self.eligible[edge] = 0\n",
    "    \n",
    "    def iteration_nosignal(self,input_rate):\n",
    "        self.time = self.time + 1\n",
    "        for edge in self.edges:\n",
    "            for i in range(self.buffers[edge].qsize()):\n",
    "                if(self.buffers[edge].qsize()):\n",
    "                    if(self.buffers[edge].queue[i][1]>self.time):\n",
    "                        self.eligible[edge] = i\n",
    "                        break\n",
    "            b = self.buffers[edge].qsize()/(self.lengths[edge]/4)\n",
    "            if(self.eligible[edge]):\n",
    "                self.edge_outputs[edge] += self.curve[self.curve[:,0]==b][0][1]\n",
    "                if(self.edge_outputs[edge]>=1):\n",
    "                    _ = self.buffers[edge].get()\n",
    "                    self.edge_outputs[edge] -= 1\n",
    "                    next_edge = self.next_edge[edge]\n",
    "                    if(next_edge is not None):\n",
    "                        b_next = self.buffers[next_edge].qsize()/(self.lengths[next_edge]/4)\n",
    "                        self.buffers[next_edge].put((self.time,self.time+(self.lengths[next_edge]/self.curve[self.curve[:,0]==b_next][0][2])),\\\n",
    "                                                   timeout=0.1)\n",
    "                    else:\n",
    "                        self.throughput.append(self.time)\n",
    "            if edge in self.input_edges:\n",
    "                self.edge_inputs[edge] += input_rate[edge]\n",
    "                if(self.edge_inputs[edge]>=1):\n",
    "                    self.buffers[edge].put((self.time,self.time+(self.lengths[edge]/self.curve[self.curve[:,0]==b][0][2])), timeout=0.1)\n",
    "                    self.edge_inputs[edge] -= 1    \n",
    "    \n",
    "    def iter_merge_equisignal(self,in_edges,out_edge):\n",
    "        schedule = {i:in_edges[i] for i in range(len(in_edges))}\n",
    "        for edge in in_edges+[out_edge]:\n",
    "            b = self.buffers[edge].qsize()/(self.lengths[edge]/4)\n",
    "            scheduled_edge = schedule[(self.time//10)%len(in_edges)]\n",
    "            if(self.eligible[edge]):\n",
    "                if(edge in in_edges):\n",
    "                    if(edge==scheduled_edge):\n",
    "                        self.edge_outputs[edge] += self.curve[self.curve[:,0]==b][0][1]\n",
    "                        if(self.edge_outputs[edge]>=1):\n",
    "                            _ = self.buffers[edge].get()\n",
    "                            self.edge_outputs[edge] -= 1\n",
    "                            b_out = self.buffers[out_edge].qsize()/(self.lengths[out_edge]/4)\n",
    "                            self.buffers[out_edge].put((self.time,self.time+(self.lengths[out_edge]/self.curve[self.curve[:,0]==b_out][0][2])),\\\n",
    "                                                       timeout=0.1)\n",
    "                else:\n",
    "                    \n",
    "                    self.edge_outputs[edge] += self.curve[self.curve[:,0]==b][0][1]\n",
    "                    if(self.edge_outputs[edge]>=1):\n",
    "                        _ = self.buffers[edge].get()\n",
    "                        self.edge_outputs[edge] -= 1\n",
    "                        next_edge = self.next_edge[edge]\n",
    "                        if(next_edge is not None):\n",
    "                            b_next = self.buffers[next_edge].qsize()/(self.lengths[next_edge]/4)\n",
    "                            self.buffers[next_edge].put((self.time,self.time+(self.lengths[next_edge]/self.curve[self.curve[:,0]==b_next][0][2])),\\\n",
    "                                                       timeout=0.1)\n",
    "                        else:\n",
    "                            self.throughput.append(self.time)\n",
    "    \n",
    "    def iteration_equisignal(self,input_rate):\n",
    "        self.time = self.time + 1\n",
    "        for edge in self.edges:\n",
    "            for i in range(self.buffers[edge].qsize()):\n",
    "                if(self.buffers[edge].qsize()):\n",
    "                    if(self.buffers[edge].queue[i][1]>self.time):\n",
    "                        self.eligible[edge] = i\n",
    "                        break\n",
    "            b = self.buffers[edge].qsize()/(self.lengths[edge]/4)\n",
    "            if edge in self.input_edges:\n",
    "                self.edge_inputs[edge] += input_rate[edge]\n",
    "                if(self.edge_inputs[edge]>=1):\n",
    "                    self.buffers[edge].put((self.time,self.time+(self.lengths[edge]/self.curve[self.curve[:,0]==b][0][2])), timeout=0.1)\n",
    "                    self.edge_inputs[edge] -= 1\n",
    "                    \n",
    "        all_edges = set(self.edges)\n",
    "        union_merge = set()\n",
    "        for merge in merges:\n",
    "            in_edges, out_edge = merge[0], merge[1]\n",
    "            self.iter_merge_equisignal(in_edges,out_edge)\n",
    "            union_merge.union(set(in_edges))\n",
    "            union_merge.union({out_edge})\n",
    "        rem_edges = all_edges - union_merge\n",
    "        if(rem_edges is not None):\n",
    "            for edge in rem_edges:\n",
    "                b = self.buffers[edge].qsize()/(self.lengths[edge]/4)\n",
    "                if(self.eligible[edge]):\n",
    "                    self.edge_outputs[edge] += self.curve[self.curve[:,0]==b][0][1]\n",
    "                    if(self.edge_outputs[edge]>=1):\n",
    "                        _ = self.buffers[edge].get()\n",
    "                        self.edge_outputs[edge] -= 1\n",
    "                        next_edge = self.next_edge[edge]\n",
    "                        if(next_edge is not None):\n",
    "                            b_next = self.buffers[next_edge].qsize()/(self.lengths[next_edge]/4)\n",
    "                            self.buffers[next_edge].put((self.time,self.time+(self.lengths[next_edge]/self.curve[self.curve[:,0]==b_next][0][2])),\\\n",
    "                                                       timeout=0.1)\n",
    "                        else:\n",
    "                            self.throughput.append(self.time)\n",
    "                    \n",
    "    def iter_merge_self_regulate(self,in_edges,out_edge):\n",
    "        for edge in in_edges+[out_edge]:\n",
    "            if(edge not in in_edges):\n",
    "                b = self.buffers[edge].qsize()/(self.lengths[edge]/4)\n",
    "                if(self.eligible[edge]):\n",
    "                    self.edge_outputs[edge] += self.curve[self.curve[:,0]==b][0][1]\n",
    "                    if(self.edge_outputs[edge]>=1):\n",
    "                        _ = self.buffers[edge].get()\n",
    "                        self.edge_outputs[edge] -= 1\n",
    "                        self.throughput.append(self.time)\n",
    "            else:\n",
    "                if(self.eligible[edge]):\n",
    "                    b = self.buffers[edge].qsize()/(self.lengths[edge]/4)\n",
    "                    alpha = self.get_alpha(in_edges,out_edge)\n",
    "                    self.edge_outputs[edge] += self.curve[self.curve[:,0]==b][0][1]*min(1,alpha)\n",
    "                    if(self.edge_outputs[edge]>=1):\n",
    "                        _ = self.buffers[edge].get()\n",
    "                        self.edge_outputs[edge] -= 1\n",
    "                        next_edge = self.next_edge[edge]\n",
    "                        b_next = self.buffers[next_edge].qsize()/(self.lengths[next_edge]/4)\n",
    "                        self.buffers[next_edge].put((self.time,self.time+(self.lengths[next_edge]/self.curve[self.curve[:,0]==b_next][0][2])),\\\n",
    "                                                   timeout=0.1)\n",
    "    \n",
    "    \n",
    "    def iteration_self_regulate(self,input_rate):\n",
    "        self.time += 1\n",
    "        for edge in self.edges:\n",
    "            for i in range(self.buffers[edge].qsize()):\n",
    "                if(self.buffers[edge].qsize()):\n",
    "                    if(self.buffers[edge].queue[i][1]>self.time):\n",
    "                        self.eligible[edge] = i\n",
    "                        break\n",
    "            b = self.buffers[edge].qsize()/(self.lengths[edge]/4)                             \n",
    "            if edge in self.input_edges:\n",
    "                    self.edge_inputs[edge] += input_rate[edge]\n",
    "                    if(self.edge_inputs[edge]>=1):\n",
    "                        self.buffers[edge].put((self.time,self.time+(self.lengths[edge]/self.curve[self.curve[:,0]==b][0][2])), timeout=0.1)\n",
    "                        self.edge_inputs[edge] -= 1    \n",
    "                        \n",
    "        all_edges = set(self.edges)\n",
    "        union_merge = set()\n",
    "        for merge in merges:\n",
    "            in_edges, out_edge = merge[0], merge[1]\n",
    "            self.iter_merge_self_regulate(in_edges,out_edge)\n",
    "            union_merge.union(set(in_edges))\n",
    "            union_merge.union({out_edge})\n",
    "        rem_edges = all_edges - union_merge\n",
    "        if(rem_edges is not None):\n",
    "            for edge in rem_edges:\n",
    "                b = self.buffers[edge].qsize()/(self.lengths[edge]/4)\n",
    "                if(self.eligible[edge]):\n",
    "                    self.edge_outputs[edge] += self.curve[self.curve[:,0]==b][0][1]\n",
    "                    if(self.edge_outputs[edge]>=1):\n",
    "                        _ = self.buffers[edge].get()\n",
    "                        self.edge_outputs[edge] -= 1\n",
    "                        next_edge = self.next_edge[edge]\n",
    "                        if(next_edge is not None):\n",
    "                            b_next = self.buffers[next_edge].qsize()/(self.lengths[next_edge]/4)\n",
    "                            self.buffers[next_edge].put((self.time,self.time+(self.lengths[next_edge]/self.curve[self.curve[:,0]==b_next][0][2])),\\\n",
    "                                                       timeout=0.1)\n",
    "                        else:\n",
    "                            self.throughput.append(self.time)\n",
    "            \n",
    "              \n",
    "    def get_throughput(self):\n",
    "        return(self.throughput)\n",
    "    \n",
    "    def get_alpha(self,in_edges,out_edge):\n",
    "        b_lim = 0.33\n",
    "        c_lim = self.curve[self.curve[:,0]==b_lim][0][1]\n",
    "        b_out = self.buffers[out_edge].qsize()/(self.lengths[out_edge]/4)\n",
    "        b_ratio = {}\n",
    "        for edge in in_edges:\n",
    "            b_ratio[edge] = (self.buffers[edge].qsize()/(self.lengths[edge]/4))\n",
    "        factor = 1/sum(b_ratio.values())\n",
    "        c_norm = {}\n",
    "        for edge in in_edges:\n",
    "            b_ratio[edge] = b_ratio[edge]*factor\n",
    "            b = (self.buffers[edge].qsize()/(self.lengths[edge]/4))\n",
    "            c = self.curve[self.curve[:,0]==b][0][1]\n",
    "            c_norm[edge] = c*b_ratio[edge]\n",
    "        \n",
    "        if(sum(b_ratio.values())):\n",
    "            if(b_lim-b_out>0):\n",
    "                alpha = (b_lim-b_out+c_lim)/(sum(c_norm.values()))\n",
    "            else:\n",
    "                alpha=0\n",
    "        else:\n",
    "            alpha = 1        \n",
    "        return(alpha)\n",
    "    "
   ]
  },
  {
   "cell_type": "markdown",
   "id": "62eb6fa0-c900-41da-9c68-2e4ab6913cf3",
   "metadata": {},
   "source": [
    "# Experiments on Holland Tunnel"
   ]
  },
  {
   "cell_type": "markdown",
   "id": "b8bc61e2-ab74-4c79-9fb2-e3f68e885040",
   "metadata": {},
   "source": [
    "## Holland Tunnel Manhattan to NJ"
   ]
  },
  {
   "cell_type": "code",
   "execution_count": 757,
   "id": "f8335b63-c331-4945-8a6a-9afb6b750940",
   "metadata": {},
   "outputs": [],
   "source": [
    "top_G = {'A':['E'],'B':['E'],'C':['E'],'D':['E'],'E':['F']}\n",
    "edges = []\n",
    "for key,val in top_G.items():\n",
    "    for node in val:\n",
    "        edges.append(key+node)\n",
    "\n",
    "lengths = {'AE':200,'BE':200,'CE':200,'DE':200,'EF':200}\n",
    "\n",
    "input_edges = ['AE', 'BE', 'CE', 'DE']\n",
    "\n",
    "next_edge = {'AE':'EF', 'BE':'EF', 'CE':'EF', 'DE':'EF', 'EF':None}\n",
    "\n",
    "merges = [[['AE', 'BE', 'CE', 'DE'], 'EF']]"
   ]
  },
  {
   "cell_type": "code",
   "execution_count": 758,
   "id": "dff275e0-f2d4-4e72-ab58-f89f73f4fea5",
   "metadata": {},
   "outputs": [],
   "source": [
    "base_input_rate = {'AE':0.13, 'BE':0.13, 'CE':0.13, 'DE':0.13}\n",
    "burst_input_rate = {'AE':0.40, 'BE':0.40, 'CE':0.03, 'DE':0.03}"
   ]
  },
  {
   "cell_type": "code",
   "execution_count": 771,
   "id": "7e04df4c-334f-48ae-b7b1-8c849be472ce",
   "metadata": {},
   "outputs": [],
   "source": [
    "i1, i2, i3 = 200, 30, 500"
   ]
  },
  {
   "cell_type": "code",
   "execution_count": 772,
   "id": "421b09cc-7d37-4790-a29a-e74dcb330002",
   "metadata": {},
   "outputs": [],
   "source": [
    "S = simulator(edges, lengths, input_edges, next_edge, curve, merges)\n",
    "try:\n",
    "    for k in range(i1):\n",
    "        S.iteration_equisignal(base_input_rate)\n",
    "    for k in range(i2):\n",
    "        S.iteration_equisignal(burst_input_rate)\n",
    "    for k in range(i3):\n",
    "        S.iteration_equisignal(base_input_rate)\n",
    "except:\n",
    "    pass\n",
    "\n",
    "time_arr = np.array(S.get_throughput())\n",
    "throughput_equisignalling = np.array([len(time_arr[(time_arr>=i) & (time_arr<i+10)]) for i in range(0,i1+i2+i3,1)])\n",
    "kernel_size = 10\n",
    "kernel = np.ones(kernel_size) / kernel_size\n",
    "throughput_equisignalling = np.convolve(throughput_equisignalling, kernel, mode='valid')"
   ]
  },
  {
   "cell_type": "code",
   "execution_count": 773,
   "id": "a7aa37e8-c922-41aa-841e-94781057ad6c",
   "metadata": {},
   "outputs": [],
   "source": [
    "S = simulator(edges, lengths, input_edges, next_edge, curve, merges)\n",
    "try:\n",
    "    for k in range(i1):\n",
    "        S.iteration_self_regulate(base_input_rate)\n",
    "    for k in range(i2):\n",
    "        S.iteration_self_regulate(burst_input_rate)\n",
    "    for k in range(i3):\n",
    "        S.iteration_self_regulate(base_input_rate)\n",
    "except:\n",
    "    pass\n",
    "time_arr = np.array(S.get_throughput())\n",
    "throughput_self_regulate = np.array([len(time_arr[(time_arr>=i) & (time_arr<i+10)]) for i in range(0,i1+i2+i3,1)])\n",
    "kernel_size = 10\n",
    "kernel = np.ones(kernel_size) / kernel_size\n",
    "throughput_self_regulate = np.convolve(throughput_self_regulate, kernel, mode='valid')"
   ]
  },
  {
   "cell_type": "code",
   "execution_count": 774,
   "id": "080c3271-7670-44e2-8bbd-bb9b79cc7afa",
   "metadata": {},
   "outputs": [],
   "source": [
    "S = simulator(edges, lengths, input_edges, next_edge, curve, merges)\n",
    "try:\n",
    "    for k in range(i1):\n",
    "        S.iteration_nosignal(base_input_rate)\n",
    "    for k in range(i2):\n",
    "        S.iteration_nosignal(burst_input_rate)\n",
    "    for k in range(i3):\n",
    "        S.iteration_nosignal(base_input_rate)\n",
    "except:\n",
    "    pass\n",
    "\n",
    "time_arr = np.array(S.get_throughput())\n",
    "throughput_nosignalling = np.array([len(time_arr[(time_arr>=i) & (time_arr<i+10)]) for i in range(0,i1+i2+i3,1)])\n",
    "kernel_size = 10\n",
    "kernel = np.ones(kernel_size) / kernel_size\n",
    "throughput_nosignalling = np.convolve(throughput_nosignalling, kernel, mode='valid')"
   ]
  },
  {
   "cell_type": "code",
   "execution_count": 775,
   "id": "c6d54d5c-ccc3-4d67-b900-6de04aef446b",
   "metadata": {},
   "outputs": [],
   "source": [
    "time_axis = [i for i in range(0,len(throughput_self_regulate))]"
   ]
  },
  {
   "cell_type": "code",
   "execution_count": 776,
   "id": "1d4aafe9-a215-4a40-b140-1a862f8d53ba",
   "metadata": {},
   "outputs": [
    {
     "data": {
      "text/plain": [
       "[<matplotlib.lines.Line2D at 0x15276e8f2e90>]"
      ]
     },
     "execution_count": 776,
     "metadata": {},
     "output_type": "execute_result"
    },
    {
     "data": {
      "image/png": "[encoded data removed]",
      "text/plain": [
       "<Figure size 432x288 with 1 Axes>"
      ]
     },
     "metadata": {
      "needs_background": "light"
     },
     "output_type": "display_data"
    }
   ],
   "source": [
    "plt.plot(time_axis,throughput_nosignalling)\n",
    "plt.plot(time_axis,throughput_equisignalling)\n",
    "plt.plot(time_axis,throughput_self_regulate)"
   ]
  },
  {
   "cell_type": "markdown",
   "id": "be682f7d-164b-42dd-9fc9-baf5339dbcdc",
   "metadata": {},
   "source": [
    "# Holland Tunnel NJ to M"
   ]
  },
  {
   "cell_type": "code",
   "execution_count": 737,
   "id": "c33a32ed-9d5f-461f-8852-a7f617c077ec",
   "metadata": {},
   "outputs": [],
   "source": [
    "top_G = {'A':['D'],'B':['D'],'C':['D'],'D':['F'],'E':['F'], 'F':['H'], 'G':['H'], 'H':['J'], 'I':['J'], 'J':['K']}\n",
    "edges = []\n",
    "for key,val in top_G.items():\n",
    "    for node in val:\n",
    "        edges.append(key+node)\n",
    "\n",
    "lengths = {i:200 for i in edges}\n",
    "\n",
    "input_edges = ['AD', 'BD', 'CD', 'EF', 'GH', 'IJ']\n",
    "for edge in input_edges:\n",
    "    lengths[edge] = 100\n",
    "\n",
    "next_edge = {'AD':'DF', 'BD':'DF', 'CD':'DF', 'DF':'FH', 'EF':'FH', 'FH':'HJ', 'GH':'HJ', 'HJ':'JK', 'IJ':'JK', 'JK':None}\n",
    "\n",
    "merges = [[['AD', 'BD', 'CD'], 'DF'],[['DF','EF'],'FH'],[['FH','GH'],'HJ'],[['HJ','IJ'],'JK']]"
   ]
  },
  {
   "cell_type": "code",
   "execution_count": 738,
   "id": "57987f51-984a-4e63-b7bc-78c4beba62ff",
   "metadata": {},
   "outputs": [],
   "source": [
    "base_input_rate = {'AD':0.09, 'BD':0.09, 'CD':0.09, 'EF':0.09, 'GH':0.09, 'IJ':0.09}\n",
    "burst_input_rate = {'AD':0.20, 'BD':0.25, 'CD':0.03, 'EF':0.02, 'GH':0.02, 'IJ':0.02}"
   ]
  },
  {
   "cell_type": "code",
   "execution_count": 739,
   "id": "0da17e86-eada-4c00-98c5-681ff3a8debf",
   "metadata": {},
   "outputs": [],
   "source": [
    "i1, i2, i3 = 200, 200, 500"
   ]
  },
  {
   "cell_type": "code",
   "execution_count": 740,
   "id": "716d0e96-b650-46d3-9b49-6dbbceb9e1fa",
   "metadata": {},
   "outputs": [],
   "source": [
    "S = simulator(edges, lengths, input_edges, next_edge, curve, merges)\n",
    "try:\n",
    "    for k in range(i1):\n",
    "        S.iteration_equisignal(base_input_rate)\n",
    "    for k in range(i2):\n",
    "        S.iteration_equisignal(burst_input_rate)\n",
    "    for k in range(i3):\n",
    "        S.iteration_equisignal(base_input_rate)\n",
    "except:\n",
    "    pass\n",
    "\n",
    "time_arr = np.array(S.get_throughput())\n",
    "throughput_equisignalling = np.array([len(time_arr[(time_arr>=i) & (time_arr<i+10)]) for i in range(0,i1+i2+i3,1)])\n",
    "kernel_size = 10\n",
    "kernel = np.ones(kernel_size) / kernel_size\n",
    "throughput_equisignalling = np.convolve(throughput_equisignalling, kernel, mode='valid')"
   ]
  },
  {
   "cell_type": "code",
   "execution_count": 741,
   "id": "1eaf7401-0e94-4cc7-86df-5789334ab59a",
   "metadata": {},
   "outputs": [],
   "source": [
    "S = simulator(edges, lengths, input_edges, next_edge, curve, merges)\n",
    "try:\n",
    "    for k in range(i1):\n",
    "        S.iteration_self_regulate(base_input_rate)\n",
    "    for k in range(i2):\n",
    "        S.iteration_self_regulate(burst_input_rate)\n",
    "    for k in range(i3):\n",
    "        S.iteration_self_regulate(base_input_rate)\n",
    "except:\n",
    "    pass\n",
    "time_arr = np.array(S.get_throughput())\n",
    "throughput_self_regulate = np.array([len(time_arr[(time_arr>=i) & (time_arr<i+10)]) for i in range(0,i1+i2+i3,1)])\n",
    "kernel_size = 10\n",
    "kernel = np.ones(kernel_size) / kernel_size\n",
    "throughput_self_regulate = np.convolve(throughput_self_regulate, kernel, mode='valid')"
   ]
  },
  {
   "cell_type": "code",
   "execution_count": 742,
   "id": "33fe3754-f027-4b1e-8591-115d1abadbc9",
   "metadata": {},
   "outputs": [],
   "source": [
    "S = simulator(edges, lengths, input_edges, next_edge, curve, merges)\n",
    "try:\n",
    "    for k in range(i1):\n",
    "        S.iteration_nosignal(base_input_rate)\n",
    "    for k in range(i2):\n",
    "        S.iteration_nosignal(burst_input_rate)\n",
    "    for k in range(i3):\n",
    "        S.iteration_nosignal(base_input_rate)\n",
    "except:\n",
    "    pass\n",
    "\n",
    "time_arr = np.array(S.get_throughput())\n",
    "throughput_nosignalling = np.array([len(time_arr[(time_arr>=i) & (time_arr<i+10)]) for i in range(0,i1+i2+i3,1)])\n",
    "kernel_size = 10\n",
    "kernel = np.ones(kernel_size) / kernel_size\n",
    "throughput_nosignalling = np.convolve(throughput_nosignalling, kernel, mode='valid')"
   ]
  },
  {
   "cell_type": "code",
   "execution_count": 743,
   "id": "fc52ef93-6bee-4be3-80d0-69eaddd3e58a",
   "metadata": {},
   "outputs": [],
   "source": [
    "time_axis = [i for i in range(0,len(throughput_self_regulate))]"
   ]
  },
  {
   "cell_type": "code",
   "execution_count": 744,
   "id": "416d7247-1194-4fde-ae43-2bd04482f124",
   "metadata": {},
   "outputs": [
    {
     "data": {
      "text/plain": [
       "[<matplotlib.lines.Line2D at 0x15276e94e650>]"
      ]
     },
     "execution_count": 744,
     "metadata": {},
     "output_type": "execute_result"
    },
    {
     "data": {
      "image/png": "[encoded data removed]",
      "text/plain": [
       "<Figure size 432x288 with 1 Axes>"
      ]
     },
     "metadata": {
      "needs_background": "light"
     },
     "output_type": "display_data"
    }
   ],
   "source": [
    "plt.plot(time_axis,throughput_nosignalling)\n",
    "plt.plot(time_axis,throughput_equisignalling)\n",
    "plt.plot(time_axis,throughput_self_regulate)"
   ]
  },
  {
   "cell_type": "code",
   "execution_count": null,
   "id": "70cbb3b2-c630-4cac-90ec-c1803948ecbc",
   "metadata": {},
   "outputs": [],
   "source": []
  }
 ],
 "metadata": {
  "kernelspec": {
   "display_name": "Python 3 (ipykernel)",
   "language": "python",
   "name": "python3"
  },
  "language_info": {
   "codemirror_mode": {
    "name": "ipython",
    "version": 3
   },
   "file_extension": ".py",
   "mimetype": "text/x-python",
   "name": "python",
   "nbconvert_exporter": "python",
   "pygments_lexer": "ipython3",
   "version": "3.10.0"
  }
 },
 "nbformat": 4,
 "nbformat_minor": 5
}
