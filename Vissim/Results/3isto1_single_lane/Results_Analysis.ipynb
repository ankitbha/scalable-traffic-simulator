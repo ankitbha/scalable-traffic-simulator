{
 "cells": [
  {
   "cell_type": "code",
   "execution_count": 105,
   "id": "b074e65f-bf30-4cb9-a763-e4e259f44531",
   "metadata": {},
   "outputs": [],
   "source": [
    "import pandas as pd\n",
    "import numpy as np\n",
    "import matplotlib.pyplot as plt"
   ]
  },
  {
   "cell_type": "markdown",
   "id": "db0b5d4e-b325-4d03-a8d8-287a9a432a37",
   "metadata": {},
   "source": [
    "## 3isto1 Single Lane"
   ]
  },
  {
   "cell_type": "code",
   "execution_count": 106,
   "id": "e3a8642f-3e9d-4fb2-bd3b-3f9d50545785",
   "metadata": {},
   "outputs": [],
   "source": [
    "df_no_net = pd.read_csv(\"9.11_no2_network.csv\", header=1, index_col=0)"
   ]
  },
  {
   "cell_type": "code",
   "execution_count": 107,
   "id": "3634424e-b618-4a84-8abc-e43781968251",
   "metadata": {},
   "outputs": [],
   "source": [
    "df_no_net = df_no_net[:7]"
   ]
  },
  {
   "cell_type": "code",
   "execution_count": 108,
   "id": "8095510d-02e9-4720-91c3-3fc3e9ecb1f2",
   "metadata": {},
   "outputs": [
    {
     "data": {
      "text/html": [
       "<div>\n",
       "<style scoped>\n",
       "    .dataframe tbody tr th:only-of-type {\n",
       "        vertical-align: middle;\n",
       "    }\n",
       "\n",
       "    .dataframe tbody tr th {\n",
       "        vertical-align: top;\n",
       "    }\n",
       "\n",
       "    .dataframe thead th {\n",
       "        text-align: right;\n",
       "    }\n",
       "</style>\n",
       "<table border=\"1\" class=\"dataframe\">\n",
       "  <thead>\n",
       "    <tr style=\"text-align: right;\">\n",
       "      <th></th>\n",
       "      <th>DELAYAVG(ALL)</th>\n",
       "      <th>SPEEDAVG(ALL)</th>\n",
       "      <th>VEHACT(ALL)</th>\n",
       "      <th>VEHARR(ALL)</th>\n",
       "    </tr>\n",
       "    <tr>\n",
       "      <th>TIMEINT</th>\n",
       "      <th></th>\n",
       "      <th></th>\n",
       "      <th></th>\n",
       "      <th></th>\n",
       "    </tr>\n",
       "  </thead>\n",
       "  <tbody>\n",
       "    <tr>\n",
       "      <th>0-120</th>\n",
       "      <td>2.074953</td>\n",
       "      <td>46.670348</td>\n",
       "      <td>14</td>\n",
       "      <td>13</td>\n",
       "    </tr>\n",
       "    <tr>\n",
       "      <th>120-240</th>\n",
       "      <td>5.475155</td>\n",
       "      <td>43.737842</td>\n",
       "      <td>27</td>\n",
       "      <td>26</td>\n",
       "    </tr>\n",
       "    <tr>\n",
       "      <th>240-360</th>\n",
       "      <td>18.635354</td>\n",
       "      <td>31.598012</td>\n",
       "      <td>35</td>\n",
       "      <td>35</td>\n",
       "    </tr>\n",
       "    <tr>\n",
       "      <th>360-480</th>\n",
       "      <td>30.014589</td>\n",
       "      <td>24.661514</td>\n",
       "      <td>65</td>\n",
       "      <td>34</td>\n",
       "    </tr>\n",
       "    <tr>\n",
       "      <th>480-600</th>\n",
       "      <td>53.645720</td>\n",
       "      <td>14.098044</td>\n",
       "      <td>100</td>\n",
       "      <td>34</td>\n",
       "    </tr>\n",
       "    <tr>\n",
       "      <th>600-720</th>\n",
       "      <td>69.544413</td>\n",
       "      <td>9.535482</td>\n",
       "      <td>122</td>\n",
       "      <td>33</td>\n",
       "    </tr>\n",
       "    <tr>\n",
       "      <th>720-840</th>\n",
       "      <td>39.558520</td>\n",
       "      <td>8.175424</td>\n",
       "      <td>138</td>\n",
       "      <td>17</td>\n",
       "    </tr>\n",
       "  </tbody>\n",
       "</table>\n",
       "</div>"
      ],
      "text/plain": [
       "         DELAYAVG(ALL)  SPEEDAVG(ALL)  VEHACT(ALL)  VEHARR(ALL)\n",
       "TIMEINT                                                        \n",
       "0-120         2.074953      46.670348           14           13\n",
       "120-240       5.475155      43.737842           27           26\n",
       "240-360      18.635354      31.598012           35           35\n",
       "360-480      30.014589      24.661514           65           34\n",
       "480-600      53.645720      14.098044          100           34\n",
       "600-720      69.544413       9.535482          122           33\n",
       "720-840      39.558520       8.175424          138           17"
      ]
     },
     "execution_count": 108,
     "metadata": {},
     "output_type": "execute_result"
    }
   ],
   "source": [
    "df_no_net"
   ]
  },
  {
   "cell_type": "code",
   "execution_count": 109,
   "id": "f0a36542-2843-45cb-b1e1-6ba1082d2de6",
   "metadata": {},
   "outputs": [],
   "source": [
    "df_eq_net = pd.read_csv(\"9.11_sig2_network.csv\", header=1, index_col=0)"
   ]
  },
  {
   "cell_type": "code",
   "execution_count": 110,
   "id": "338da8a3-8a71-4988-965d-a1cfab7208c5",
   "metadata": {},
   "outputs": [],
   "source": [
    "df_eq_net = df_eq_net[:4]"
   ]
  },
  {
   "cell_type": "code",
   "execution_count": 111,
   "id": "f0700c31-416d-4c8c-9473-06b1135cb701",
   "metadata": {},
   "outputs": [
    {
     "data": {
      "text/html": [
       "<div>\n",
       "<style scoped>\n",
       "    .dataframe tbody tr th:only-of-type {\n",
       "        vertical-align: middle;\n",
       "    }\n",
       "\n",
       "    .dataframe tbody tr th {\n",
       "        vertical-align: top;\n",
       "    }\n",
       "\n",
       "    .dataframe thead th {\n",
       "        text-align: right;\n",
       "    }\n",
       "</style>\n",
       "<table border=\"1\" class=\"dataframe\">\n",
       "  <thead>\n",
       "    <tr style=\"text-align: right;\">\n",
       "      <th></th>\n",
       "      <th>DELAYAVG(ALL)</th>\n",
       "      <th>SPEEDAVG(ALL)</th>\n",
       "      <th>VEHACT(ALL)</th>\n",
       "      <th>VEHARR(ALL)</th>\n",
       "    </tr>\n",
       "    <tr>\n",
       "      <th>TIMEINT</th>\n",
       "      <th></th>\n",
       "      <th></th>\n",
       "      <th></th>\n",
       "      <th></th>\n",
       "    </tr>\n",
       "  </thead>\n",
       "  <tbody>\n",
       "    <tr>\n",
       "      <th>0-120</th>\n",
       "      <td>12.002908</td>\n",
       "      <td>38.622562</td>\n",
       "      <td>18</td>\n",
       "      <td>9</td>\n",
       "    </tr>\n",
       "    <tr>\n",
       "      <th>120-240</th>\n",
       "      <td>19.085389</td>\n",
       "      <td>32.560538</td>\n",
       "      <td>33</td>\n",
       "      <td>24</td>\n",
       "    </tr>\n",
       "    <tr>\n",
       "      <th>240-360</th>\n",
       "      <td>42.019955</td>\n",
       "      <td>18.337329</td>\n",
       "      <td>54</td>\n",
       "      <td>22</td>\n",
       "    </tr>\n",
       "    <tr>\n",
       "      <th>360-480</th>\n",
       "      <td>45.595326</td>\n",
       "      <td>13.124298</td>\n",
       "      <td>81</td>\n",
       "      <td>21</td>\n",
       "    </tr>\n",
       "  </tbody>\n",
       "</table>\n",
       "</div>"
      ],
      "text/plain": [
       "         DELAYAVG(ALL)  SPEEDAVG(ALL)  VEHACT(ALL)  VEHARR(ALL)\n",
       "TIMEINT                                                        \n",
       "0-120        12.002908      38.622562           18            9\n",
       "120-240      19.085389      32.560538           33           24\n",
       "240-360      42.019955      18.337329           54           22\n",
       "360-480      45.595326      13.124298           81           21"
      ]
     },
     "execution_count": 111,
     "metadata": {},
     "output_type": "execute_result"
    }
   ],
   "source": [
    "df_eq_net"
   ]
  },
  {
   "cell_type": "code",
   "execution_count": 112,
   "id": "6ed50fc2-edad-41fb-9c41-52a2d98c917f",
   "metadata": {},
   "outputs": [],
   "source": [
    "df_scat_net = pd.read_csv(\"9.11_Scats2_network.csv\", header=1, index_col=0)"
   ]
  },
  {
   "cell_type": "code",
   "execution_count": 113,
   "id": "daf97d5f-3d00-434f-95af-b92d8b20c400",
   "metadata": {},
   "outputs": [],
   "source": [
    "df_scat_net = df_scat_net[:5]"
   ]
  },
  {
   "cell_type": "code",
   "execution_count": 114,
   "id": "b474c7f0-179d-46e7-92a7-cad0e1a2e817",
   "metadata": {},
   "outputs": [
    {
     "data": {
      "text/html": [
       "<div>\n",
       "<style scoped>\n",
       "    .dataframe tbody tr th:only-of-type {\n",
       "        vertical-align: middle;\n",
       "    }\n",
       "\n",
       "    .dataframe tbody tr th {\n",
       "        vertical-align: top;\n",
       "    }\n",
       "\n",
       "    .dataframe thead th {\n",
       "        text-align: right;\n",
       "    }\n",
       "</style>\n",
       "<table border=\"1\" class=\"dataframe\">\n",
       "  <thead>\n",
       "    <tr style=\"text-align: right;\">\n",
       "      <th></th>\n",
       "      <th>DELAYAVG(ALL)</th>\n",
       "      <th>SPEEDAVG(ALL)</th>\n",
       "      <th>VEHACT(ALL)</th>\n",
       "      <th>VEHARR(ALL)</th>\n",
       "    </tr>\n",
       "    <tr>\n",
       "      <th>TIMEINT</th>\n",
       "      <th></th>\n",
       "      <th></th>\n",
       "      <th></th>\n",
       "      <th></th>\n",
       "    </tr>\n",
       "  </thead>\n",
       "  <tbody>\n",
       "    <tr>\n",
       "      <th>0-120</th>\n",
       "      <td>12.825807</td>\n",
       "      <td>38.103098</td>\n",
       "      <td>18</td>\n",
       "      <td>9</td>\n",
       "    </tr>\n",
       "    <tr>\n",
       "      <th>120-240</th>\n",
       "      <td>24.542458</td>\n",
       "      <td>29.621114</td>\n",
       "      <td>34</td>\n",
       "      <td>23</td>\n",
       "    </tr>\n",
       "    <tr>\n",
       "      <th>240-360</th>\n",
       "      <td>47.010678</td>\n",
       "      <td>16.654541</td>\n",
       "      <td>55</td>\n",
       "      <td>22</td>\n",
       "    </tr>\n",
       "    <tr>\n",
       "      <th>360-480</th>\n",
       "      <td>59.468517</td>\n",
       "      <td>11.730228</td>\n",
       "      <td>91</td>\n",
       "      <td>27</td>\n",
       "    </tr>\n",
       "    <tr>\n",
       "      <th>480-600</th>\n",
       "      <td>10.465559</td>\n",
       "      <td>9.286149</td>\n",
       "      <td>93</td>\n",
       "      <td>2</td>\n",
       "    </tr>\n",
       "  </tbody>\n",
       "</table>\n",
       "</div>"
      ],
      "text/plain": [
       "         DELAYAVG(ALL)  SPEEDAVG(ALL)  VEHACT(ALL)  VEHARR(ALL)\n",
       "TIMEINT                                                        \n",
       "0-120        12.825807      38.103098           18            9\n",
       "120-240      24.542458      29.621114           34           23\n",
       "240-360      47.010678      16.654541           55           22\n",
       "360-480      59.468517      11.730228           91           27\n",
       "480-600      10.465559       9.286149           93            2"
      ]
     },
     "execution_count": 114,
     "metadata": {},
     "output_type": "execute_result"
    }
   ],
   "source": [
    "df_scat_net"
   ]
  },
  {
   "cell_type": "code",
   "execution_count": 115,
   "id": "c97a7ff2-7433-4913-8eea-255787453a9e",
   "metadata": {},
   "outputs": [],
   "source": [
    "df_scoot_net = pd.read_csv(\"9.11_Scoot2_network.csv\", header=1, index_col=0)"
   ]
  },
  {
   "cell_type": "code",
   "execution_count": 116,
   "id": "65360c60-0a7e-4974-a844-5388fd6b04a0",
   "metadata": {},
   "outputs": [],
   "source": [
    "df_scoot_net = df_scoot_net[:5]"
   ]
  },
  {
   "cell_type": "code",
   "execution_count": 117,
   "id": "e374681c-70be-4dc9-8cf0-467d818157e5",
   "metadata": {},
   "outputs": [
    {
     "data": {
      "text/html": [
       "<div>\n",
       "<style scoped>\n",
       "    .dataframe tbody tr th:only-of-type {\n",
       "        vertical-align: middle;\n",
       "    }\n",
       "\n",
       "    .dataframe tbody tr th {\n",
       "        vertical-align: top;\n",
       "    }\n",
       "\n",
       "    .dataframe thead th {\n",
       "        text-align: right;\n",
       "    }\n",
       "</style>\n",
       "<table border=\"1\" class=\"dataframe\">\n",
       "  <thead>\n",
       "    <tr style=\"text-align: right;\">\n",
       "      <th></th>\n",
       "      <th>DELAYAVG(ALL)</th>\n",
       "      <th>SPEEDAVG(ALL)</th>\n",
       "      <th>VEHACT(ALL)</th>\n",
       "      <th>VEHARR(ALL)</th>\n",
       "    </tr>\n",
       "    <tr>\n",
       "      <th>TIMEINT</th>\n",
       "      <th></th>\n",
       "      <th></th>\n",
       "      <th></th>\n",
       "      <th></th>\n",
       "    </tr>\n",
       "  </thead>\n",
       "  <tbody>\n",
       "    <tr>\n",
       "      <th>0-120</th>\n",
       "      <td>12.825807</td>\n",
       "      <td>38.103098</td>\n",
       "      <td>18</td>\n",
       "      <td>9</td>\n",
       "    </tr>\n",
       "    <tr>\n",
       "      <th>120-240</th>\n",
       "      <td>25.514441</td>\n",
       "      <td>28.994470</td>\n",
       "      <td>35</td>\n",
       "      <td>22</td>\n",
       "    </tr>\n",
       "    <tr>\n",
       "      <th>240-360</th>\n",
       "      <td>46.396342</td>\n",
       "      <td>16.973314</td>\n",
       "      <td>54</td>\n",
       "      <td>24</td>\n",
       "    </tr>\n",
       "    <tr>\n",
       "      <th>360-480</th>\n",
       "      <td>59.186856</td>\n",
       "      <td>11.862283</td>\n",
       "      <td>92</td>\n",
       "      <td>26</td>\n",
       "    </tr>\n",
       "    <tr>\n",
       "      <th>480-600</th>\n",
       "      <td>9.705862</td>\n",
       "      <td>9.178650</td>\n",
       "      <td>95</td>\n",
       "      <td>1</td>\n",
       "    </tr>\n",
       "  </tbody>\n",
       "</table>\n",
       "</div>"
      ],
      "text/plain": [
       "         DELAYAVG(ALL)  SPEEDAVG(ALL)  VEHACT(ALL)  VEHARR(ALL)\n",
       "TIMEINT                                                        \n",
       "0-120        12.825807      38.103098           18            9\n",
       "120-240      25.514441      28.994470           35           22\n",
       "240-360      46.396342      16.973314           54           24\n",
       "360-480      59.186856      11.862283           92           26\n",
       "480-600       9.705862       9.178650           95            1"
      ]
     },
     "execution_count": 117,
     "metadata": {},
     "output_type": "execute_result"
    }
   ],
   "source": [
    "df_scoot_net"
   ]
  },
  {
   "cell_type": "code",
   "execution_count": 118,
   "id": "eb671933-bdee-455f-9305-3cbe696993db",
   "metadata": {},
   "outputs": [],
   "source": [
    "df_ourdec_net = pd.read_csv(\"9.11_our2_network.csv\", header=1, index_col=0)"
   ]
  },
  {
   "cell_type": "code",
   "execution_count": 119,
   "id": "0315b2df-7e59-413d-8aed-65b2cd6cef5c",
   "metadata": {},
   "outputs": [],
   "source": [
    "df_ourdec_net = df_ourdec_net[:7]"
   ]
  },
  {
   "cell_type": "code",
   "execution_count": 120,
   "id": "de8cf0b4-eec9-4bf5-98fd-5fc982734ff7",
   "metadata": {},
   "outputs": [
    {
     "data": {
      "text/html": [
       "<div>\n",
       "<style scoped>\n",
       "    .dataframe tbody tr th:only-of-type {\n",
       "        vertical-align: middle;\n",
       "    }\n",
       "\n",
       "    .dataframe tbody tr th {\n",
       "        vertical-align: top;\n",
       "    }\n",
       "\n",
       "    .dataframe thead th {\n",
       "        text-align: right;\n",
       "    }\n",
       "</style>\n",
       "<table border=\"1\" class=\"dataframe\">\n",
       "  <thead>\n",
       "    <tr style=\"text-align: right;\">\n",
       "      <th></th>\n",
       "      <th>DELAYAVG(ALL)</th>\n",
       "      <th>SPEEDAVG(ALL)</th>\n",
       "      <th>VEHACT(ALL)</th>\n",
       "      <th>VEHARR(ALL)</th>\n",
       "    </tr>\n",
       "    <tr>\n",
       "      <th>TIMEINT</th>\n",
       "      <th></th>\n",
       "      <th></th>\n",
       "      <th></th>\n",
       "      <th></th>\n",
       "    </tr>\n",
       "  </thead>\n",
       "  <tbody>\n",
       "    <tr>\n",
       "      <th>0-120</th>\n",
       "      <td>9.742512</td>\n",
       "      <td>39.226903</td>\n",
       "      <td>17</td>\n",
       "      <td>10</td>\n",
       "    </tr>\n",
       "    <tr>\n",
       "      <th>120-240</th>\n",
       "      <td>15.644218</td>\n",
       "      <td>29.128895</td>\n",
       "      <td>33</td>\n",
       "      <td>23</td>\n",
       "    </tr>\n",
       "    <tr>\n",
       "      <th>240-360</th>\n",
       "      <td>18.788802</td>\n",
       "      <td>17.242424</td>\n",
       "      <td>44</td>\n",
       "      <td>25</td>\n",
       "    </tr>\n",
       "    <tr>\n",
       "      <th>360-480</th>\n",
       "      <td>18.661389</td>\n",
       "      <td>14.416435</td>\n",
       "      <td>61</td>\n",
       "      <td>21</td>\n",
       "    </tr>\n",
       "    <tr>\n",
       "      <th>480-600</th>\n",
       "      <td>34.376042</td>\n",
       "      <td>8.890297</td>\n",
       "      <td>78</td>\n",
       "      <td>17</td>\n",
       "    </tr>\n",
       "    <tr>\n",
       "      <th>600-720</th>\n",
       "      <td>46.158663</td>\n",
       "      <td>4.469849</td>\n",
       "      <td>103</td>\n",
       "      <td>11</td>\n",
       "    </tr>\n",
       "    <tr>\n",
       "      <th>720-840</th>\n",
       "      <td>42.233889</td>\n",
       "      <td>4.618432</td>\n",
       "      <td>117</td>\n",
       "      <td>15</td>\n",
       "    </tr>\n",
       "  </tbody>\n",
       "</table>\n",
       "</div>"
      ],
      "text/plain": [
       "         DELAYAVG(ALL)  SPEEDAVG(ALL)  VEHACT(ALL)  VEHARR(ALL)\n",
       "TIMEINT                                                        \n",
       "0-120         9.742512      39.226903           17           10\n",
       "120-240      15.644218      29.128895           33           23\n",
       "240-360      18.788802      17.242424           44           25\n",
       "360-480      18.661389      14.416435           61           21\n",
       "480-600      34.376042       8.890297           78           17\n",
       "600-720      46.158663       4.469849          103           11\n",
       "720-840      42.233889       4.618432          117           15"
      ]
     },
     "execution_count": 120,
     "metadata": {},
     "output_type": "execute_result"
    }
   ],
   "source": [
    "df_ourdec_net"
   ]
  },
  {
   "cell_type": "code",
   "execution_count": 121,
   "id": "3dba42d8-ffd9-4323-b74a-8a71394ec23a",
   "metadata": {},
   "outputs": [],
   "source": [
    "df_ada_net = pd.read_csv(\"9.11_ada2_network.csv\", header=1, index_col=0)"
   ]
  },
  {
   "cell_type": "code",
   "execution_count": 123,
   "id": "5abea25e-ded5-4b7f-ad6d-d84bbd17e0bf",
   "metadata": {},
   "outputs": [],
   "source": [
    "df_ada_net = df_ada_net[:5]"
   ]
  },
  {
   "cell_type": "code",
   "execution_count": 124,
   "id": "043f1ae2-7ea4-4ad2-946b-2d0e262f3737",
   "metadata": {},
   "outputs": [
    {
     "data": {
      "text/html": [
       "<div>\n",
       "<style scoped>\n",
       "    .dataframe tbody tr th:only-of-type {\n",
       "        vertical-align: middle;\n",
       "    }\n",
       "\n",
       "    .dataframe tbody tr th {\n",
       "        vertical-align: top;\n",
       "    }\n",
       "\n",
       "    .dataframe thead th {\n",
       "        text-align: right;\n",
       "    }\n",
       "</style>\n",
       "<table border=\"1\" class=\"dataframe\">\n",
       "  <thead>\n",
       "    <tr style=\"text-align: right;\">\n",
       "      <th></th>\n",
       "      <th>DELAYAVG(ALL)</th>\n",
       "      <th>SPEEDAVG(ALL)</th>\n",
       "      <th>VEHACT(ALL)</th>\n",
       "      <th>VEHARR(ALL)</th>\n",
       "    </tr>\n",
       "    <tr>\n",
       "      <th>TIMEINT</th>\n",
       "      <th></th>\n",
       "      <th></th>\n",
       "      <th></th>\n",
       "      <th></th>\n",
       "    </tr>\n",
       "  </thead>\n",
       "  <tbody>\n",
       "    <tr>\n",
       "      <th>0-120</th>\n",
       "      <td>10.075717</td>\n",
       "      <td>37.202201</td>\n",
       "      <td>18</td>\n",
       "      <td>9</td>\n",
       "    </tr>\n",
       "    <tr>\n",
       "      <th>120-240</th>\n",
       "      <td>14.614469</td>\n",
       "      <td>33.172859</td>\n",
       "      <td>32</td>\n",
       "      <td>25</td>\n",
       "    </tr>\n",
       "    <tr>\n",
       "      <th>240-360</th>\n",
       "      <td>39.103664</td>\n",
       "      <td>18.761393</td>\n",
       "      <td>51</td>\n",
       "      <td>24</td>\n",
       "    </tr>\n",
       "    <tr>\n",
       "      <th>360-480</th>\n",
       "      <td>54.944216</td>\n",
       "      <td>11.856426</td>\n",
       "      <td>89</td>\n",
       "      <td>24</td>\n",
       "    </tr>\n",
       "    <tr>\n",
       "      <th>480-600</th>\n",
       "      <td>26.690401</td>\n",
       "      <td>11.533087</td>\n",
       "      <td>91</td>\n",
       "      <td>8</td>\n",
       "    </tr>\n",
       "  </tbody>\n",
       "</table>\n",
       "</div>"
      ],
      "text/plain": [
       "         DELAYAVG(ALL)  SPEEDAVG(ALL)  VEHACT(ALL)  VEHARR(ALL)\n",
       "TIMEINT                                                        \n",
       "0-120        10.075717      37.202201           18            9\n",
       "120-240      14.614469      33.172859           32           25\n",
       "240-360      39.103664      18.761393           51           24\n",
       "360-480      54.944216      11.856426           89           24\n",
       "480-600      26.690401      11.533087           91            8"
      ]
     },
     "execution_count": 124,
     "metadata": {},
     "output_type": "execute_result"
    }
   ],
   "source": [
    "df_ada_net"
   ]
  },
  {
   "cell_type": "code",
   "execution_count": 125,
   "id": "07f057bd-cd0a-4054-b07e-2c07c393d06e",
   "metadata": {},
   "outputs": [
    {
     "data": {
      "image/png": "[encoded data removed]",
      "text/plain": [
       "<Figure size 432x288 with 1 Axes>"
      ]
     },
     "metadata": {
      "needs_background": "light"
     },
     "output_type": "display_data"
    }
   ],
   "source": [
    "fig = plt.figure()\n",
    "plt.plot(df_no_net[\"DELAYAVG(ALL)\"], label=\"No Signaling\")\n",
    "plt.plot(df_eq_net[\"DELAYAVG(ALL)\"], label=\"Equal Time Signaling\")\n",
    "plt.plot(df_scat_net[\"DELAYAVG(ALL)\"], label=\"SCAT\")\n",
    "plt.plot(df_scoot_net[\"DELAYAVG(ALL)\"], label=\"SCOOT\")\n",
    "plt.plot(df_ourdec_net[\"DELAYAVG(ALL)\"], label=\"Our Decentralized Protocol\")\n",
    "plt.plot(df_ada_net[\"DELAYAVG(ALL)\"], label=\"Adaptive Protocol\")\n",
    "plt.legend()\n",
    "plt.ylabel(\"Average Delay (in Seconds)\")\n",
    "plt.xlabel (\"Signaling Cycles (in Seconds Interval)\")\n",
    "plt.title(\"Delay Curve on Single Lane Merge for 3:1 Load\")\n",
    "plt.show()\n",
    "plt.close(fig)"
   ]
  },
  {
   "cell_type": "code",
   "execution_count": 126,
   "id": "f0ae6c7c-df11-4d5a-867b-8f295e6b4c09",
   "metadata": {},
   "outputs": [
    {
     "data": {
      "image/png": "[encoded data removed]",
      "text/plain": [
       "<Figure size 432x288 with 1 Axes>"
      ]
     },
     "metadata": {
      "needs_background": "light"
     },
     "output_type": "display_data"
    }
   ],
   "source": [
    "fig = plt.figure()\n",
    "plt.plot(df_no_net[\"SPEEDAVG(ALL)\"], label=\"No Signaling\")\n",
    "plt.plot(df_eq_net[\"SPEEDAVG(ALL)\"], label=\"Equal Time Signaling\")\n",
    "plt.plot(df_scat_net[\"SPEEDAVG(ALL)\"], label=\"SCAT\")\n",
    "plt.plot(df_scoot_net[\"SPEEDAVG(ALL)\"], label=\"SCOOT\")\n",
    "plt.plot(df_ourdec_net[\"SPEEDAVG(ALL)\"], label=\"Our Decentralized Protocol\")\n",
    "plt.plot(df_ada_net[\"SPEEDAVG(ALL)\"], label=\"Adaptive Protocol\")\n",
    "plt.legend()\n",
    "plt.ylabel(\"Average Speed (in Km/hr)\")\n",
    "plt.xlabel (\"Signaling Cycles (in Seconds Interval)\")\n",
    "plt.title(\"Speed Curve on Single Lane Merge for 3:1 Load\")\n",
    "plt.show()\n",
    "plt.close(fig)"
   ]
  },
  {
   "cell_type": "code",
   "execution_count": 130,
   "id": "d4dc4bff-6a71-441c-9e76-561f8cc2321e",
   "metadata": {},
   "outputs": [
    {
     "data": {
      "image/png": "[encoded data removed]",
      "text/plain": [
       "<Figure size 432x288 with 1 Axes>"
      ]
     },
     "metadata": {
      "needs_background": "light"
     },
     "output_type": "display_data"
    }
   ],
   "source": [
    "thpt = []\n",
    "thpt.append(df_no_net[\"VEHARR(ALL)\"].sum())\n",
    "thpt.append(df_eq_net[\"VEHARR(ALL)\"].sum())\n",
    "thpt.append(df_scat_net[\"VEHARR(ALL)\"].sum())\n",
    "thpt.append(df_scoot_net[\"VEHARR(ALL)\"].sum())\n",
    "thpt.append(df_ourdec_net[\"VEHARR(ALL)\"].sum())\n",
    "thpt.append(df_ada_net[\"VEHARR(ALL)\"].sum())\n",
    "\n",
    "stgy = [\"No Signal\", \"Equal Signal\", \"SCAT\", \"SCOOT\", \"Decentralized\", \"Adaptive\"]\n",
    "\n",
    "fig = plt.figure()\n",
    "plt.plot(stgy, thpt, '-x')\n",
    "plt.xlabel(\"Control Strategy\")\n",
    "plt.ylabel(\"Total Throughput (in Number of Cars)\")\n",
    "plt.title(\"Throughput plot of different strategies for 3:1 load\")\n",
    "plt.ylim(0,200)\n",
    "plt.show()\n",
    "plt.close(fig)"
   ]
  },
  {
   "cell_type": "code",
   "execution_count": 128,
   "id": "74456b41-5872-4225-81a2-9db15677f147",
   "metadata": {},
   "outputs": [
    {
     "data": {
      "image/png": "[encoded data removed]",
      "text/plain": [
       "<Figure size 432x288 with 1 Axes>"
      ]
     },
     "metadata": {
      "needs_background": "light"
     },
     "output_type": "display_data"
    }
   ],
   "source": [
    "sim_end_time = [776.4, 450.9, 496, 492, 813.1, 519.1]\n",
    "fig = plt.figure()\n",
    "plt.plot(stgy, sim_end_time, '-x')\n",
    "plt.xlabel(\"Control Strategy\")\n",
    "plt.ylabel(\"Jam Time (in seconds)\")\n",
    "plt.title(\"Time to hit a jam in different strategies for 3:1 load\")\n",
    "plt.show()\n",
    "plt.close(fig)"
   ]
  },
  {
   "cell_type": "markdown",
   "id": "00205769-74c3-4135-9bf5-ba02374f8d67",
   "metadata": {},
   "source": [
    "## Fairness Analysis"
   ]
  },
  {
   "cell_type": "code",
   "execution_count": 81,
   "id": "2e522089-baa4-4d7e-8661-3c7e10e92aa3",
   "metadata": {},
   "outputs": [],
   "source": [
    "df_no_link = pd.read_csv(\"9.11_no2 - links.csv\", header=1, index_col=0)"
   ]
  },
  {
   "cell_type": "code",
   "execution_count": 82,
   "id": "a006ab03-a98a-4076-8cbd-7c00238be7f6",
   "metadata": {},
   "outputs": [],
   "source": [
    "df_no_link = df_no_link[:7]"
   ]
  },
  {
   "cell_type": "code",
   "execution_count": 83,
   "id": "88cc1ab9-7d2e-4af0-b073-e406bd0d4531",
   "metadata": {},
   "outputs": [],
   "source": [
    "df_no_link[\"L1_density\"] = (400*df_no_link[\"L1_density\"]+150*df_no_link[\"L3_density\"])/550\n",
    "df_no_link[\"L1_delay\"] = (df_no_link[\"L1_delay\"].str[:-1]).astype(float)+(df_no_link[\"L3_delay\"].str[:-1]).astype(float)\n",
    "df_no_link[\"L1_Speed\"] = (550*df_no_link[\"L1_Speed\"]*df_no_link[\"L3_Speed\"])/(400*df_no_link[\"L3_Speed\"]+150*df_no_link[\"L1_Speed\"])\n",
    "df_no_link = df_no_link.drop([\"L3_density\", \"L3_delay\", \"L3_Speed\"],axis=1)\n",
    "df_no_link[\"L2_density\"] = (400*df_no_link[\"L2_density\"]+150*df_no_link[\"L4_density\"])/550\n",
    "df_no_link[\"L2_delay\"] = (df_no_link[\"L2_delay\"].str[:-1]).astype(float)+(df_no_link[\"L4_delay\"].str[:-1]).astype(float)\n",
    "df_no_link[\"L2_Speed\"] = (550*df_no_link[\"L2_Speed\"]*df_no_link[\"L4_Speed\"])/(400*df_no_link[\"L2_Speed\"]+150*df_no_link[\"L4_Speed\"])\n",
    "df_no_link = df_no_link.drop([\"L4_density\", \"L4_delay\", \"L4_Speed\"],axis=1)\n",
    "df_no_link = df_no_link.drop([\"L5_density\", \"L5_delay\", \"L5_Speed\"],axis=1)\n",
    "df_no_link[\"Density Ratio\"] = df_no_link[\"L1_density\"]/df_no_link[\"L2_density\"]\n",
    "df_no_link[\"Delay Ratio\"] = df_no_link[\"L1_delay\"]/df_no_link[\"L2_delay\"]\n",
    "df_no_link[\"Speed Ratio\"] = df_no_link[\"L1_Speed\"]/df_no_link[\"L2_Speed\"]\n",
    "df_no_link = df_no_link.drop([\"L1_density\", \"L1_delay\", \"L1_Speed\"],axis=1)\n",
    "df_no_link = df_no_link.drop([\"L2_density\", \"L2_delay\", \"L2_Speed\"],axis=1)\n",
    "df_no_link.replace([np.inf, -np.inf], np.nan, inplace=True)"
   ]
  },
  {
   "cell_type": "code",
   "execution_count": 84,
   "id": "c129502b-1b2f-4950-9b79-14c53037fc90",
   "metadata": {},
   "outputs": [
    {
     "data": {
      "text/html": [
       "<div>\n",
       "<style scoped>\n",
       "    .dataframe tbody tr th:only-of-type {\n",
       "        vertical-align: middle;\n",
       "    }\n",
       "\n",
       "    .dataframe tbody tr th {\n",
       "        vertical-align: top;\n",
       "    }\n",
       "\n",
       "    .dataframe thead th {\n",
       "        text-align: right;\n",
       "    }\n",
       "</style>\n",
       "<table border=\"1\" class=\"dataframe\">\n",
       "  <thead>\n",
       "    <tr style=\"text-align: right;\">\n",
       "      <th></th>\n",
       "      <th>Density Ratio</th>\n",
       "      <th>Delay Ratio</th>\n",
       "      <th>Speed Ratio</th>\n",
       "    </tr>\n",
       "    <tr>\n",
       "      <th>TIMEINT</th>\n",
       "      <th></th>\n",
       "      <th></th>\n",
       "      <th></th>\n",
       "    </tr>\n",
       "  </thead>\n",
       "  <tbody>\n",
       "    <tr>\n",
       "      <th>0-120</th>\n",
       "      <td>4.626244</td>\n",
       "      <td>75.888889</td>\n",
       "      <td>0.953147</td>\n",
       "    </tr>\n",
       "    <tr>\n",
       "      <th>120-240</th>\n",
       "      <td>3.714306</td>\n",
       "      <td>2.147325</td>\n",
       "      <td>0.981464</td>\n",
       "    </tr>\n",
       "    <tr>\n",
       "      <th>240-360</th>\n",
       "      <td>12.692738</td>\n",
       "      <td>2.063703</td>\n",
       "      <td>0.724097</td>\n",
       "    </tr>\n",
       "    <tr>\n",
       "      <th>360-480</th>\n",
       "      <td>4.161143</td>\n",
       "      <td>1.556099</td>\n",
       "      <td>1.310805</td>\n",
       "    </tr>\n",
       "    <tr>\n",
       "      <th>480-600</th>\n",
       "      <td>1.838583</td>\n",
       "      <td>1.361364</td>\n",
       "      <td>13.653224</td>\n",
       "    </tr>\n",
       "    <tr>\n",
       "      <th>600-720</th>\n",
       "      <td>1.398898</td>\n",
       "      <td>0.909805</td>\n",
       "      <td>NaN</td>\n",
       "    </tr>\n",
       "    <tr>\n",
       "      <th>720-840</th>\n",
       "      <td>0.936087</td>\n",
       "      <td>0.845182</td>\n",
       "      <td>NaN</td>\n",
       "    </tr>\n",
       "  </tbody>\n",
       "</table>\n",
       "</div>"
      ],
      "text/plain": [
       "         Density Ratio  Delay Ratio  Speed Ratio\n",
       "TIMEINT                                         \n",
       "0-120         4.626244    75.888889     0.953147\n",
       "120-240       3.714306     2.147325     0.981464\n",
       "240-360      12.692738     2.063703     0.724097\n",
       "360-480       4.161143     1.556099     1.310805\n",
       "480-600       1.838583     1.361364    13.653224\n",
       "600-720       1.398898     0.909805          NaN\n",
       "720-840       0.936087     0.845182          NaN"
      ]
     },
     "execution_count": 84,
     "metadata": {},
     "output_type": "execute_result"
    }
   ],
   "source": [
    "df_no_link"
   ]
  },
  {
   "cell_type": "code",
   "execution_count": 85,
   "id": "d075b694-5726-4892-91c1-f2550ca3e602",
   "metadata": {},
   "outputs": [],
   "source": [
    "df_eq_link = pd.read_csv(\"9.11_sig2 - links.csv\", header=1, index_col=0)"
   ]
  },
  {
   "cell_type": "code",
   "execution_count": 86,
   "id": "1d504fea-7611-4c3a-b19e-2d8d9cbd0d54",
   "metadata": {},
   "outputs": [],
   "source": [
    "df_eq_link = df_eq_link[:4]"
   ]
  },
  {
   "cell_type": "code",
   "execution_count": 87,
   "id": "99d21c61-1485-438c-aca4-f8d7edec8356",
   "metadata": {},
   "outputs": [],
   "source": [
    "df_eq_link[\"L1_density\"] = (400*df_eq_link[\"L1_density\"]+150*df_eq_link[\"L3_density\"])/550\n",
    "df_eq_link[\"L1_delay\"] = (df_eq_link[\"L1_delay\"].str[:-1]).astype(float)+(df_eq_link[\"L3_delay\"].str[:-1]).astype(float)\n",
    "df_eq_link[\"L1_Speed\"] = (550*df_eq_link[\"L1_Speed\"]*df_eq_link[\"L3_Speed\"])/(400*df_eq_link[\"L3_Speed\"]+150*df_eq_link[\"L1_Speed\"])\n",
    "df_eq_link = df_eq_link.drop([\"L3_density\", \"L3_delay\", \"L3_Speed\"],axis=1)\n",
    "df_eq_link[\"L2_density\"] = (400*df_eq_link[\"L2_density\"]+150*df_eq_link[\"L4_density\"])/550\n",
    "df_eq_link[\"L2_delay\"] = (df_eq_link[\"L2_delay\"].str[:-1]).astype(float)+(df_eq_link[\"L4_delay\"].str[:-1]).astype(float)\n",
    "df_eq_link[\"L2_Speed\"] = (550*df_eq_link[\"L2_Speed\"]*df_eq_link[\"L4_Speed\"])/(400*df_eq_link[\"L2_Speed\"]+150*df_eq_link[\"L4_Speed\"])\n",
    "df_eq_link = df_eq_link.drop([\"L4_density\", \"L4_delay\", \"L4_Speed\"],axis=1)\n",
    "df_eq_link = df_eq_link.drop([\"L5_density\", \"L5_delay\", \"L5_Speed\"],axis=1)\n",
    "df_eq_link[\"Density Ratio\"] = df_eq_link[\"L1_density\"]/df_eq_link[\"L2_density\"]\n",
    "df_eq_link[\"Delay Ratio\"] = df_eq_link[\"L1_delay\"]/df_eq_link[\"L2_delay\"]\n",
    "df_eq_link[\"Speed Ratio\"] = df_eq_link[\"L1_Speed\"]/df_eq_link[\"L2_Speed\"]\n",
    "df_eq_link = df_eq_link.drop([\"L1_density\", \"L1_delay\", \"L1_Speed\"],axis=1)\n",
    "df_eq_link = df_eq_link.drop([\"L2_density\", \"L2_delay\", \"L2_Speed\"],axis=1)\n",
    "df_eq_link.replace([np.inf, -np.inf], np.nan, inplace=True)"
   ]
  },
  {
   "cell_type": "code",
   "execution_count": 88,
   "id": "a8a7cc63-950f-4b4f-a905-ce1d600bbc9d",
   "metadata": {},
   "outputs": [
    {
     "data": {
      "text/html": [
       "<div>\n",
       "<style scoped>\n",
       "    .dataframe tbody tr th:only-of-type {\n",
       "        vertical-align: middle;\n",
       "    }\n",
       "\n",
       "    .dataframe tbody tr th {\n",
       "        vertical-align: top;\n",
       "    }\n",
       "\n",
       "    .dataframe thead th {\n",
       "        text-align: right;\n",
       "    }\n",
       "</style>\n",
       "<table border=\"1\" class=\"dataframe\">\n",
       "  <thead>\n",
       "    <tr style=\"text-align: right;\">\n",
       "      <th></th>\n",
       "      <th>Density Ratio</th>\n",
       "      <th>Delay Ratio</th>\n",
       "      <th>Speed Ratio</th>\n",
       "    </tr>\n",
       "    <tr>\n",
       "      <th>TIMEINT</th>\n",
       "      <th></th>\n",
       "      <th></th>\n",
       "      <th></th>\n",
       "    </tr>\n",
       "  </thead>\n",
       "  <tbody>\n",
       "    <tr>\n",
       "      <th>0-120</th>\n",
       "      <td>5.810164</td>\n",
       "      <td>72.294118</td>\n",
       "      <td>0.704074</td>\n",
       "    </tr>\n",
       "    <tr>\n",
       "      <th>120-240</th>\n",
       "      <td>5.697519</td>\n",
       "      <td>4.116421</td>\n",
       "      <td>0.558669</td>\n",
       "    </tr>\n",
       "    <tr>\n",
       "      <th>240-360</th>\n",
       "      <td>23.524511</td>\n",
       "      <td>16.777778</td>\n",
       "      <td>0.208486</td>\n",
       "    </tr>\n",
       "    <tr>\n",
       "      <th>360-480</th>\n",
       "      <td>13.854282</td>\n",
       "      <td>4.836190</td>\n",
       "      <td>0.205068</td>\n",
       "    </tr>\n",
       "  </tbody>\n",
       "</table>\n",
       "</div>"
      ],
      "text/plain": [
       "         Density Ratio  Delay Ratio  Speed Ratio\n",
       "TIMEINT                                         \n",
       "0-120         5.810164    72.294118     0.704074\n",
       "120-240       5.697519     4.116421     0.558669\n",
       "240-360      23.524511    16.777778     0.208486\n",
       "360-480      13.854282     4.836190     0.205068"
      ]
     },
     "execution_count": 88,
     "metadata": {},
     "output_type": "execute_result"
    }
   ],
   "source": [
    "df_eq_link"
   ]
  },
  {
   "cell_type": "code",
   "execution_count": 89,
   "id": "d09ca265-30d1-4879-9304-9eefbf6d5bf2",
   "metadata": {},
   "outputs": [],
   "source": [
    "df_scat_link = pd.read_csv(\"9.11_Scats2 - links.csv\", header=1, index_col=0)"
   ]
  },
  {
   "cell_type": "code",
   "execution_count": 90,
   "id": "9b9516df-7ed3-4b83-afcc-4220fb382fa5",
   "metadata": {},
   "outputs": [],
   "source": [
    "df_scat_link = df_scat_link[:5]"
   ]
  },
  {
   "cell_type": "code",
   "execution_count": 91,
   "id": "504ef73d-b3cf-46c3-a721-5c316ef80a55",
   "metadata": {},
   "outputs": [],
   "source": [
    "df_scat_link[\"L1_density\"] = (400*df_scat_link[\"L1_density\"]+150*df_scat_link[\"L3_density\"])/550\n",
    "df_scat_link[\"L1_delay\"] = (df_scat_link[\"L1_delay\"].str[:-1]).astype(float)+(df_scat_link[\"L3_delay\"].str[:-1]).astype(float)\n",
    "df_scat_link[\"L1_Speed\"] = (550*df_scat_link[\"L1_Speed\"]*df_scat_link[\"L3_Speed\"])/(400*df_scat_link[\"L3_Speed\"]+150*df_scat_link[\"L1_Speed\"])\n",
    "df_scat_link = df_scat_link.drop([\"L3_density\", \"L3_delay\", \"L3_Speed\"],axis=1)\n",
    "df_scat_link[\"L2_density\"] = (400*df_scat_link[\"L2_density\"]+150*df_scat_link[\"L4_density\"])/550\n",
    "df_scat_link[\"L2_delay\"] = (df_scat_link[\"L2_delay\"].str[:-1]).astype(float)+(df_scat_link[\"L4_delay\"].str[:-1]).astype(float)\n",
    "df_scat_link[\"L2_Speed\"] = (550*df_scat_link[\"L2_Speed\"]*df_scat_link[\"L4_Speed\"])/(400*df_scat_link[\"L2_Speed\"]+150*df_scat_link[\"L4_Speed\"])\n",
    "df_scat_link = df_scat_link.drop([\"L4_density\", \"L4_delay\", \"L4_Speed\"],axis=1)\n",
    "df_scat_link = df_scat_link.drop([\"L5_density\", \"L5_delay\", \"L5_Speed\"],axis=1)\n",
    "df_scat_link[\"Density Ratio\"] = df_scat_link[\"L1_density\"]/df_scat_link[\"L2_density\"]\n",
    "df_scat_link[\"Delay Ratio\"] = df_scat_link[\"L1_delay\"]/df_scat_link[\"L2_delay\"]\n",
    "df_scat_link[\"Speed Ratio\"] = df_scat_link[\"L1_Speed\"]/df_scat_link[\"L2_Speed\"]\n",
    "df_scat_link = df_scat_link.drop([\"L1_density\", \"L1_delay\", \"L1_Speed\"],axis=1)\n",
    "df_scat_link = df_scat_link.drop([\"L2_density\", \"L2_delay\", \"L2_Speed\"],axis=1)\n",
    "df_scat_link.replace([np.inf, -np.inf], np.nan, inplace=True)"
   ]
  },
  {
   "cell_type": "code",
   "execution_count": 92,
   "id": "64a3471b-237c-4274-a803-4e3576312565",
   "metadata": {},
   "outputs": [
    {
     "data": {
      "text/html": [
       "<div>\n",
       "<style scoped>\n",
       "    .dataframe tbody tr th:only-of-type {\n",
       "        vertical-align: middle;\n",
       "    }\n",
       "\n",
       "    .dataframe tbody tr th {\n",
       "        vertical-align: top;\n",
       "    }\n",
       "\n",
       "    .dataframe thead th {\n",
       "        text-align: right;\n",
       "    }\n",
       "</style>\n",
       "<table border=\"1\" class=\"dataframe\">\n",
       "  <thead>\n",
       "    <tr style=\"text-align: right;\">\n",
       "      <th></th>\n",
       "      <th>Density Ratio</th>\n",
       "      <th>Delay Ratio</th>\n",
       "      <th>Speed Ratio</th>\n",
       "    </tr>\n",
       "    <tr>\n",
       "      <th>TIMEINT</th>\n",
       "      <th></th>\n",
       "      <th></th>\n",
       "      <th></th>\n",
       "    </tr>\n",
       "  </thead>\n",
       "  <tbody>\n",
       "    <tr>\n",
       "      <th>0-120</th>\n",
       "      <td>5.799186</td>\n",
       "      <td>22.736059</td>\n",
       "      <td>0.714646</td>\n",
       "    </tr>\n",
       "    <tr>\n",
       "      <th>120-240</th>\n",
       "      <td>5.784428</td>\n",
       "      <td>2.369101</td>\n",
       "      <td>0.585173</td>\n",
       "    </tr>\n",
       "    <tr>\n",
       "      <th>240-360</th>\n",
       "      <td>24.248481</td>\n",
       "      <td>11.546238</td>\n",
       "      <td>0.213269</td>\n",
       "    </tr>\n",
       "    <tr>\n",
       "      <th>360-480</th>\n",
       "      <td>11.861208</td>\n",
       "      <td>6.731846</td>\n",
       "      <td>0.145180</td>\n",
       "    </tr>\n",
       "    <tr>\n",
       "      <th>480-600</th>\n",
       "      <td>8.878963</td>\n",
       "      <td>40.681435</td>\n",
       "      <td>0.008855</td>\n",
       "    </tr>\n",
       "  </tbody>\n",
       "</table>\n",
       "</div>"
      ],
      "text/plain": [
       "         Density Ratio  Delay Ratio  Speed Ratio\n",
       "TIMEINT                                         \n",
       "0-120         5.799186    22.736059     0.714646\n",
       "120-240       5.784428     2.369101     0.585173\n",
       "240-360      24.248481    11.546238     0.213269\n",
       "360-480      11.861208     6.731846     0.145180\n",
       "480-600       8.878963    40.681435     0.008855"
      ]
     },
     "execution_count": 92,
     "metadata": {},
     "output_type": "execute_result"
    }
   ],
   "source": [
    "df_scat_link"
   ]
  },
  {
   "cell_type": "code",
   "execution_count": 93,
   "id": "6bef84f7-6c1b-49e7-b6f1-e122d001ceb3",
   "metadata": {},
   "outputs": [],
   "source": [
    "df_scoot_link = pd.read_csv(\"9.11_Scoot2 - links.csv\", header=1, index_col=0)"
   ]
  },
  {
   "cell_type": "code",
   "execution_count": 94,
   "id": "830a1a69-5041-422e-a70e-7fb1eec70d8a",
   "metadata": {},
   "outputs": [],
   "source": [
    "df_scoot_link = df_scoot_link[:5]"
   ]
  },
  {
   "cell_type": "code",
   "execution_count": 95,
   "id": "3c6924dd-1f26-42a0-82e1-f021ccb89fec",
   "metadata": {},
   "outputs": [],
   "source": [
    "df_scoot_link[\"L1_density\"] = (400*df_scoot_link[\"L1_density\"]+150*df_scoot_link[\"L3_density\"])/550\n",
    "df_scoot_link[\"L1_delay\"] = (df_scoot_link[\"L1_delay\"].str[:-1]).astype(float)+(df_scoot_link[\"L3_delay\"].str[:-1]).astype(float)\n",
    "df_scoot_link[\"L1_Speed\"] = (550*df_scoot_link[\"L1_Speed\"]*df_scoot_link[\"L3_Speed\"])/(400*df_scoot_link[\"L3_Speed\"]+150*df_scoot_link[\"L1_Speed\"])\n",
    "df_scoot_link = df_scoot_link.drop([\"L3_density\", \"L3_delay\", \"L3_Speed\"],axis=1)\n",
    "df_scoot_link[\"L2_density\"] = (400*df_scoot_link[\"L2_density\"]+150*df_scoot_link[\"L4_density\"])/550\n",
    "df_scoot_link[\"L2_delay\"] = (df_scoot_link[\"L2_delay\"].str[:-1]).astype(float)+(df_scoot_link[\"L4_delay\"].str[:-1]).astype(float)\n",
    "df_scoot_link[\"L2_Speed\"] = (550*df_scoot_link[\"L2_Speed\"]*df_scoot_link[\"L4_Speed\"])/(400*df_scoot_link[\"L2_Speed\"]+150*df_scoot_link[\"L4_Speed\"])\n",
    "df_scoot_link = df_scoot_link.drop([\"L4_density\", \"L4_delay\", \"L4_Speed\"],axis=1)\n",
    "df_scoot_link = df_scoot_link.drop([\"L5_density\", \"L5_delay\", \"L5_Speed\"],axis=1)\n",
    "df_scoot_link[\"Density Ratio\"] = df_scoot_link[\"L1_density\"]/df_scoot_link[\"L2_density\"]\n",
    "df_scoot_link[\"Delay Ratio\"] = df_scoot_link[\"L1_delay\"]/df_scoot_link[\"L2_delay\"]\n",
    "df_scoot_link[\"Speed Ratio\"] = df_scoot_link[\"L1_Speed\"]/df_scoot_link[\"L2_Speed\"]\n",
    "df_scoot_link = df_scoot_link.drop([\"L1_density\", \"L1_delay\", \"L1_Speed\"],axis=1)\n",
    "df_scoot_link = df_scoot_link.drop([\"L2_density\", \"L2_delay\", \"L2_Speed\"],axis=1)\n",
    "df_scoot_link.replace([np.inf, -np.inf], np.nan, inplace=True)"
   ]
  },
  {
   "cell_type": "code",
   "execution_count": 96,
   "id": "f1269732-2ec4-4f60-973c-b6b0b2c2a104",
   "metadata": {},
   "outputs": [
    {
     "data": {
      "text/html": [
       "<div>\n",
       "<style scoped>\n",
       "    .dataframe tbody tr th:only-of-type {\n",
       "        vertical-align: middle;\n",
       "    }\n",
       "\n",
       "    .dataframe tbody tr th {\n",
       "        vertical-align: top;\n",
       "    }\n",
       "\n",
       "    .dataframe thead th {\n",
       "        text-align: right;\n",
       "    }\n",
       "</style>\n",
       "<table border=\"1\" class=\"dataframe\">\n",
       "  <thead>\n",
       "    <tr style=\"text-align: right;\">\n",
       "      <th></th>\n",
       "      <th>Density Ratio</th>\n",
       "      <th>Delay Ratio</th>\n",
       "      <th>Speed Ratio</th>\n",
       "    </tr>\n",
       "    <tr>\n",
       "      <th>TIMEINT</th>\n",
       "      <th></th>\n",
       "      <th></th>\n",
       "      <th></th>\n",
       "    </tr>\n",
       "  </thead>\n",
       "  <tbody>\n",
       "    <tr>\n",
       "      <th>0-120</th>\n",
       "      <td>5.799186</td>\n",
       "      <td>22.736059</td>\n",
       "      <td>0.714646</td>\n",
       "    </tr>\n",
       "    <tr>\n",
       "      <th>120-240</th>\n",
       "      <td>6.010276</td>\n",
       "      <td>2.634974</td>\n",
       "      <td>0.532678</td>\n",
       "    </tr>\n",
       "    <tr>\n",
       "      <th>240-360</th>\n",
       "      <td>24.006134</td>\n",
       "      <td>11.615204</td>\n",
       "      <td>0.235073</td>\n",
       "    </tr>\n",
       "    <tr>\n",
       "      <th>360-480</th>\n",
       "      <td>11.379126</td>\n",
       "      <td>5.404638</td>\n",
       "      <td>0.162379</td>\n",
       "    </tr>\n",
       "    <tr>\n",
       "      <th>480-600</th>\n",
       "      <td>8.714750</td>\n",
       "      <td>41.494624</td>\n",
       "      <td>0.004420</td>\n",
       "    </tr>\n",
       "  </tbody>\n",
       "</table>\n",
       "</div>"
      ],
      "text/plain": [
       "         Density Ratio  Delay Ratio  Speed Ratio\n",
       "TIMEINT                                         \n",
       "0-120         5.799186    22.736059     0.714646\n",
       "120-240       6.010276     2.634974     0.532678\n",
       "240-360      24.006134    11.615204     0.235073\n",
       "360-480      11.379126     5.404638     0.162379\n",
       "480-600       8.714750    41.494624     0.004420"
      ]
     },
     "execution_count": 96,
     "metadata": {},
     "output_type": "execute_result"
    }
   ],
   "source": [
    "df_scoot_link"
   ]
  },
  {
   "cell_type": "code",
   "execution_count": 97,
   "id": "a8c89ff6-19ca-4d37-bdda-0cfc003081d0",
   "metadata": {},
   "outputs": [],
   "source": [
    "df_ourdec_link = pd.read_csv(\"9.11_our2 - links.csv\", header=1, index_col=0)"
   ]
  },
  {
   "cell_type": "code",
   "execution_count": 98,
   "id": "417a1adf-efc6-4566-93fd-47be39da2e22",
   "metadata": {},
   "outputs": [],
   "source": [
    "df_ourdec_link = df_ourdec_link[:7]"
   ]
  },
  {
   "cell_type": "code",
   "execution_count": 99,
   "id": "a762b649-9a78-4a28-8702-82d7db99933b",
   "metadata": {},
   "outputs": [],
   "source": [
    "df_ourdec_link[\"L1_density\"] = (400*df_ourdec_link[\"L1_density\"]+150*df_ourdec_link[\"L3_density\"])/550\n",
    "df_ourdec_link[\"L1_delay\"] = (df_ourdec_link[\"L1_delay\"].str[:-1]).astype(float)+(df_ourdec_link[\"L3_delay\"].str[:-1]).astype(float)\n",
    "df_ourdec_link[\"L1_Speed\"] = (550*df_ourdec_link[\"L1_Speed\"]*df_ourdec_link[\"L3_Speed\"])/(400*df_ourdec_link[\"L3_Speed\"]+150*df_ourdec_link[\"L1_Speed\"])\n",
    "df_ourdec_link = df_ourdec_link.drop([\"L3_density\", \"L3_delay\", \"L3_Speed\"],axis=1)\n",
    "df_ourdec_link[\"L2_density\"] = (400*df_ourdec_link[\"L2_density\"]+150*df_ourdec_link[\"L4_density\"])/550\n",
    "df_ourdec_link[\"L2_delay\"] = (df_ourdec_link[\"L2_delay\"].str[:-1]).astype(float)+(df_ourdec_link[\"L4_delay\"].str[:-1]).astype(float)\n",
    "df_ourdec_link[\"L2_Speed\"] = (550*df_ourdec_link[\"L2_Speed\"]*df_ourdec_link[\"L4_Speed\"])/(400*df_ourdec_link[\"L2_Speed\"]+150*df_ourdec_link[\"L4_Speed\"])\n",
    "df_ourdec_link = df_ourdec_link.drop([\"L4_density\", \"L4_delay\", \"L4_Speed\"],axis=1)\n",
    "df_ourdec_link = df_ourdec_link.drop([\"L5_density\", \"L5_delay\", \"L5_Speed\"],axis=1)\n",
    "df_ourdec_link[\"Density Ratio\"] = df_ourdec_link[\"L1_density\"]/df_ourdec_link[\"L2_density\"]\n",
    "df_ourdec_link[\"Delay Ratio\"] = df_ourdec_link[\"L1_delay\"]/df_ourdec_link[\"L2_delay\"]\n",
    "df_ourdec_link[\"Speed Ratio\"] = df_ourdec_link[\"L1_Speed\"]/df_ourdec_link[\"L2_Speed\"]\n",
    "df_ourdec_link = df_ourdec_link.drop([\"L1_density\", \"L1_delay\", \"L1_Speed\"],axis=1)\n",
    "df_ourdec_link = df_ourdec_link.drop([\"L2_density\", \"L2_delay\", \"L2_Speed\"],axis=1)\n",
    "df_ourdec_link.replace([np.inf, -np.inf], np.nan, inplace=True)"
   ]
  },
  {
   "cell_type": "code",
   "execution_count": 100,
   "id": "606bb275-8f7f-485f-b47d-1a496dd14ed6",
   "metadata": {},
   "outputs": [
    {
     "data": {
      "text/html": [
       "<div>\n",
       "<style scoped>\n",
       "    .dataframe tbody tr th:only-of-type {\n",
       "        vertical-align: middle;\n",
       "    }\n",
       "\n",
       "    .dataframe tbody tr th {\n",
       "        vertical-align: top;\n",
       "    }\n",
       "\n",
       "    .dataframe thead th {\n",
       "        text-align: right;\n",
       "    }\n",
       "</style>\n",
       "<table border=\"1\" class=\"dataframe\">\n",
       "  <thead>\n",
       "    <tr style=\"text-align: right;\">\n",
       "      <th></th>\n",
       "      <th>Density Ratio</th>\n",
       "      <th>Delay Ratio</th>\n",
       "      <th>Speed Ratio</th>\n",
       "    </tr>\n",
       "    <tr>\n",
       "      <th>TIMEINT</th>\n",
       "      <th></th>\n",
       "      <th></th>\n",
       "      <th></th>\n",
       "    </tr>\n",
       "  </thead>\n",
       "  <tbody>\n",
       "    <tr>\n",
       "      <th>0-120</th>\n",
       "      <td>5.623649</td>\n",
       "      <td>21.424242</td>\n",
       "      <td>0.742651</td>\n",
       "    </tr>\n",
       "    <tr>\n",
       "      <th>120-240</th>\n",
       "      <td>4.492617</td>\n",
       "      <td>2.442857</td>\n",
       "      <td>0.777901</td>\n",
       "    </tr>\n",
       "    <tr>\n",
       "      <th>240-360</th>\n",
       "      <td>18.546304</td>\n",
       "      <td>28.428954</td>\n",
       "      <td>0.228310</td>\n",
       "    </tr>\n",
       "    <tr>\n",
       "      <th>360-480</th>\n",
       "      <td>6.560983</td>\n",
       "      <td>1.926036</td>\n",
       "      <td>0.315592</td>\n",
       "    </tr>\n",
       "    <tr>\n",
       "      <th>480-600</th>\n",
       "      <td>4.628222</td>\n",
       "      <td>1.421360</td>\n",
       "      <td>0.113574</td>\n",
       "    </tr>\n",
       "    <tr>\n",
       "      <th>600-720</th>\n",
       "      <td>2.953906</td>\n",
       "      <td>0.949051</td>\n",
       "      <td>3.022692</td>\n",
       "    </tr>\n",
       "    <tr>\n",
       "      <th>720-840</th>\n",
       "      <td>2.020092</td>\n",
       "      <td>1.318441</td>\n",
       "      <td>2.305046</td>\n",
       "    </tr>\n",
       "  </tbody>\n",
       "</table>\n",
       "</div>"
      ],
      "text/plain": [
       "         Density Ratio  Delay Ratio  Speed Ratio\n",
       "TIMEINT                                         \n",
       "0-120         5.623649    21.424242     0.742651\n",
       "120-240       4.492617     2.442857     0.777901\n",
       "240-360      18.546304    28.428954     0.228310\n",
       "360-480       6.560983     1.926036     0.315592\n",
       "480-600       4.628222     1.421360     0.113574\n",
       "600-720       2.953906     0.949051     3.022692\n",
       "720-840       2.020092     1.318441     2.305046"
      ]
     },
     "execution_count": 100,
     "metadata": {},
     "output_type": "execute_result"
    }
   ],
   "source": [
    "df_ourdec_link"
   ]
  },
  {
   "cell_type": "code",
   "execution_count": 102,
   "id": "941fcadf-d280-47aa-982c-7d1a9a1a3c4b",
   "metadata": {},
   "outputs": [
    {
     "data": {
      "image/png": "[encoded data removed]",
      "text/plain": [
       "<Figure size 432x288 with 1 Axes>"
      ]
     },
     "metadata": {
      "needs_background": "light"
     },
     "output_type": "display_data"
    }
   ],
   "source": [
    "fig = plt.figure()\n",
    "plt.plot(df_no_link[\"Density Ratio\"], label=\"No Signaling\")\n",
    "plt.plot(df_eq_link[\"Density Ratio\"], label=\"Equal Time Signaling\")\n",
    "plt.plot(df_scat_link[\"Density Ratio\"], label=\"SCAT\")\n",
    "plt.plot(df_scoot_link[\"Density Ratio\"], label=\"SCOOT\")\n",
    "plt.plot(df_ourdec_link[\"Density Ratio\"], label=\"Our Decentralized Protocol\")\n",
    "plt.legend()\n",
    "plt.ylabel(\"Density ratio between links\")\n",
    "plt.xlabel (\"Signaling Cycles (in Seconds Interval)\")\n",
    "plt.title(\"Density ratio on Single Lane Merge for 3:1 Load\")\n",
    "plt.show()\n",
    "plt.close(fig)"
   ]
  },
  {
   "cell_type": "code",
   "execution_count": 103,
   "id": "4abd7f1c-8087-48a9-bed9-8e61864773d2",
   "metadata": {},
   "outputs": [
    {
     "data": {
      "image/png": "[encoded data removed]",
      "text/plain": [
       "<Figure size 432x288 with 1 Axes>"
      ]
     },
     "metadata": {
      "needs_background": "light"
     },
     "output_type": "display_data"
    }
   ],
   "source": [
    "fig = plt.figure()\n",
    "plt.plot(df_no_link[\"Delay Ratio\"], label=\"No Signaling\")\n",
    "plt.plot(df_eq_link[\"Delay Ratio\"], label=\"Equal Time Signaling\")\n",
    "plt.plot(df_scat_link[\"Delay Ratio\"], label=\"SCAT\")\n",
    "plt.plot(df_scoot_link[\"Delay Ratio\"], label=\"SCOOT\")\n",
    "plt.plot(df_ourdec_link[\"Delay Ratio\"], label=\"Our Decentralized Protocol\")\n",
    "plt.legend()\n",
    "plt.ylabel(\"Delay ratio between links\")\n",
    "plt.xlabel (\"Signaling Cycles (in Seconds Interval)\")\n",
    "plt.title(\"Delay ratio on Single Lane Merge for 3:1 Load\")\n",
    "plt.show()\n",
    "plt.close(fig)"
   ]
  },
  {
   "cell_type": "code",
   "execution_count": 104,
   "id": "2ad983b0-3f71-4094-a2e7-5800b35d24cd",
   "metadata": {},
   "outputs": [
    {
     "data": {
      "image/png": "[encoded data removed]",
      "text/plain": [
       "<Figure size 432x288 with 1 Axes>"
      ]
     },
     "metadata": {
      "needs_background": "light"
     },
     "output_type": "display_data"
    }
   ],
   "source": [
    "fig = plt.figure()\n",
    "plt.plot(df_no_link[\"Speed Ratio\"], label=\"No Signaling\")\n",
    "plt.plot(df_eq_link[\"Speed Ratio\"], label=\"Equal Time Signaling\")\n",
    "plt.plot(df_scat_link[\"Speed Ratio\"], label=\"SCAT\")\n",
    "plt.plot(df_scoot_link[\"Speed Ratio\"], label=\"SCOOT\")\n",
    "plt.plot(df_ourdec_link[\"Speed Ratio\"], label=\"Our Decentralized Protocol\")\n",
    "plt.legend()\n",
    "plt.ylabel(\"Speed ratio between links\")\n",
    "plt.xlabel (\"Signaling Cycles (in Seconds Interval)\")\n",
    "plt.title(\"Speed ratio on Single Lane Merge for 3:1 Load\")\n",
    "plt.show()\n",
    "plt.close(fig)"
   ]
  },
  {
   "cell_type": "code",
   "execution_count": null,
   "id": "b1b0afa2-ba96-426d-97c1-1a159cd96ad0",
   "metadata": {},
   "outputs": [],
   "source": []
  }
 ],
 "metadata": {
  "kernelspec": {
   "display_name": "Python 3 (ipykernel)",
   "language": "python",
   "name": "python3"
  },
  "language_info": {
   "codemirror_mode": {
    "name": "ipython",
    "version": 3
   },
   "file_extension": ".py",
   "mimetype": "text/x-python",
   "name": "python",
   "nbconvert_exporter": "python",
   "pygments_lexer": "ipython3",
   "version": "3.10.0"
  }
 },
 "nbformat": 4,
 "nbformat_minor": 5
}
