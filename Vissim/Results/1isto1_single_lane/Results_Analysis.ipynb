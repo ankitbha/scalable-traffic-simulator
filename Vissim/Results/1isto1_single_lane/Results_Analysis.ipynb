{
 "cells": [
  {
   "cell_type": "code",
   "execution_count": 1,
   "id": "380449c7-19f5-4277-896d-1b935220538f",
   "metadata": {},
   "outputs": [],
   "source": [
    "import pandas as pd\n",
    "import numpy as np\n",
    "import matplotlib.pyplot as plt"
   ]
  },
  {
   "cell_type": "markdown",
   "id": "405ae655-b53d-4ba6-9d76-2eee40805f0d",
   "metadata": {},
   "source": [
    "## 1isto1 Single Lane"
   ]
  },
  {
   "cell_type": "code",
   "execution_count": 2,
   "id": "519ce310-18a0-47bc-9867-4822fba0a218",
   "metadata": {},
   "outputs": [],
   "source": [
    "df_no_net = pd.read_csv(\"9.11_no1_network.csv\", header=1, index_col=0)"
   ]
  },
  {
   "cell_type": "code",
   "execution_count": 3,
   "id": "778cb461-f9d9-44c3-ae77-0b1dc272903a",
   "metadata": {},
   "outputs": [],
   "source": [
    "df_no_net = df_no_net[:3]"
   ]
  },
  {
   "cell_type": "code",
   "execution_count": 4,
   "id": "ff60f381-aa8c-4923-866d-6dfa9868a660",
   "metadata": {},
   "outputs": [
    {
     "data": {
      "text/html": [
       "<div>\n",
       "<style scoped>\n",
       "    .dataframe tbody tr th:only-of-type {\n",
       "        vertical-align: middle;\n",
       "    }\n",
       "\n",
       "    .dataframe tbody tr th {\n",
       "        vertical-align: top;\n",
       "    }\n",
       "\n",
       "    .dataframe thead th {\n",
       "        text-align: right;\n",
       "    }\n",
       "</style>\n",
       "<table border=\"1\" class=\"dataframe\">\n",
       "  <thead>\n",
       "    <tr style=\"text-align: right;\">\n",
       "      <th></th>\n",
       "      <th>DELAYAVG(ALL)</th>\n",
       "      <th>SPEEDAVG(ALL)</th>\n",
       "      <th>VEHACT(ALL)</th>\n",
       "      <th>VEHARR(ALL)</th>\n",
       "    </tr>\n",
       "    <tr>\n",
       "      <th>TIMEINT</th>\n",
       "      <th></th>\n",
       "      <th></th>\n",
       "      <th></th>\n",
       "      <th></th>\n",
       "    </tr>\n",
       "  </thead>\n",
       "  <tbody>\n",
       "    <tr>\n",
       "      <th>0-120</th>\n",
       "      <td>25.711280</td>\n",
       "      <td>28.936477</td>\n",
       "      <td>39</td>\n",
       "      <td>4</td>\n",
       "    </tr>\n",
       "    <tr>\n",
       "      <th>120-240</th>\n",
       "      <td>63.638426</td>\n",
       "      <td>10.722398</td>\n",
       "      <td>111</td>\n",
       "      <td>0</td>\n",
       "    </tr>\n",
       "    <tr>\n",
       "      <th>240-360</th>\n",
       "      <td>26.993829</td>\n",
       "      <td>4.885620</td>\n",
       "      <td>139</td>\n",
       "      <td>0</td>\n",
       "    </tr>\n",
       "  </tbody>\n",
       "</table>\n",
       "</div>"
      ],
      "text/plain": [
       "         DELAYAVG(ALL)  SPEEDAVG(ALL)  VEHACT(ALL)  VEHARR(ALL)\n",
       "TIMEINT                                                        \n",
       "0-120        25.711280      28.936477           39            4\n",
       "120-240      63.638426      10.722398          111            0\n",
       "240-360      26.993829       4.885620          139            0"
      ]
     },
     "execution_count": 4,
     "metadata": {},
     "output_type": "execute_result"
    }
   ],
   "source": [
    "df_no_net"
   ]
  },
  {
   "cell_type": "code",
   "execution_count": 5,
   "id": "bcd6a85f-698e-4def-a432-190602ce6cc6",
   "metadata": {},
   "outputs": [],
   "source": [
    "df_eq_net = pd.read_csv(\"9.11_sig1_network.csv\", header=1, index_col=0)"
   ]
  },
  {
   "cell_type": "code",
   "execution_count": 6,
   "id": "7b247bd6-f31a-46a7-8d77-4c2ae2436194",
   "metadata": {},
   "outputs": [],
   "source": [
    "df_eq_net = df_eq_net[:4]"
   ]
  },
  {
   "cell_type": "code",
   "execution_count": 7,
   "id": "6f8f119b-1fe8-453b-b3cd-aeecb0190d36",
   "metadata": {},
   "outputs": [
    {
     "data": {
      "text/html": [
       "<div>\n",
       "<style scoped>\n",
       "    .dataframe tbody tr th:only-of-type {\n",
       "        vertical-align: middle;\n",
       "    }\n",
       "\n",
       "    .dataframe tbody tr th {\n",
       "        vertical-align: top;\n",
       "    }\n",
       "\n",
       "    .dataframe thead th {\n",
       "        text-align: right;\n",
       "    }\n",
       "</style>\n",
       "<table border=\"1\" class=\"dataframe\">\n",
       "  <thead>\n",
       "    <tr style=\"text-align: right;\">\n",
       "      <th></th>\n",
       "      <th>DELAYAVG(ALL)</th>\n",
       "      <th>SPEEDAVG(ALL)</th>\n",
       "      <th>VEHACT(ALL)</th>\n",
       "      <th>VEHARR(ALL)</th>\n",
       "    </tr>\n",
       "    <tr>\n",
       "      <th>TIMEINT</th>\n",
       "      <th></th>\n",
       "      <th></th>\n",
       "      <th></th>\n",
       "      <th></th>\n",
       "    </tr>\n",
       "  </thead>\n",
       "  <tbody>\n",
       "    <tr>\n",
       "      <th>0-120</th>\n",
       "      <td>9.922954</td>\n",
       "      <td>41.055983</td>\n",
       "      <td>27</td>\n",
       "      <td>16</td>\n",
       "    </tr>\n",
       "    <tr>\n",
       "      <th>120-240</th>\n",
       "      <td>18.901955</td>\n",
       "      <td>33.133626</td>\n",
       "      <td>55</td>\n",
       "      <td>44</td>\n",
       "    </tr>\n",
       "    <tr>\n",
       "      <th>240-360</th>\n",
       "      <td>38.173869</td>\n",
       "      <td>21.509455</td>\n",
       "      <td>100</td>\n",
       "      <td>47</td>\n",
       "    </tr>\n",
       "    <tr>\n",
       "      <th>360-480</th>\n",
       "      <td>40.701996</td>\n",
       "      <td>13.133142</td>\n",
       "      <td>135</td>\n",
       "      <td>32</td>\n",
       "    </tr>\n",
       "  </tbody>\n",
       "</table>\n",
       "</div>"
      ],
      "text/plain": [
       "         DELAYAVG(ALL)  SPEEDAVG(ALL)  VEHACT(ALL)  VEHARR(ALL)\n",
       "TIMEINT                                                        \n",
       "0-120         9.922954      41.055983           27           16\n",
       "120-240      18.901955      33.133626           55           44\n",
       "240-360      38.173869      21.509455          100           47\n",
       "360-480      40.701996      13.133142          135           32"
      ]
     },
     "execution_count": 7,
     "metadata": {},
     "output_type": "execute_result"
    }
   ],
   "source": [
    "df_eq_net"
   ]
  },
  {
   "cell_type": "code",
   "execution_count": 8,
   "id": "98d04944-c517-4809-8eb2-90b407157aef",
   "metadata": {},
   "outputs": [],
   "source": [
    "df_scat_net = pd.read_csv(\"9.11_Scats1_network.csv\", header=1, index_col=0)"
   ]
  },
  {
   "cell_type": "code",
   "execution_count": 9,
   "id": "c831f9bd-3452-4abf-8229-34d24e078ad5",
   "metadata": {},
   "outputs": [],
   "source": [
    "df_scat_net = df_scat_net[:5]"
   ]
  },
  {
   "cell_type": "code",
   "execution_count": 10,
   "id": "60556d7f-cc35-439f-b770-cdc64c8c5601",
   "metadata": {},
   "outputs": [
    {
     "data": {
      "text/html": [
       "<div>\n",
       "<style scoped>\n",
       "    .dataframe tbody tr th:only-of-type {\n",
       "        vertical-align: middle;\n",
       "    }\n",
       "\n",
       "    .dataframe tbody tr th {\n",
       "        vertical-align: top;\n",
       "    }\n",
       "\n",
       "    .dataframe thead th {\n",
       "        text-align: right;\n",
       "    }\n",
       "</style>\n",
       "<table border=\"1\" class=\"dataframe\">\n",
       "  <thead>\n",
       "    <tr style=\"text-align: right;\">\n",
       "      <th></th>\n",
       "      <th>DELAYAVG(ALL)</th>\n",
       "      <th>SPEEDAVG(ALL)</th>\n",
       "      <th>VEHACT(ALL)</th>\n",
       "      <th>VEHARR(ALL)</th>\n",
       "    </tr>\n",
       "    <tr>\n",
       "      <th>TIMEINT</th>\n",
       "      <th></th>\n",
       "      <th></th>\n",
       "      <th></th>\n",
       "      <th></th>\n",
       "    </tr>\n",
       "  </thead>\n",
       "  <tbody>\n",
       "    <tr>\n",
       "      <th>0-120</th>\n",
       "      <td>9.794143</td>\n",
       "      <td>41.303189</td>\n",
       "      <td>26</td>\n",
       "      <td>17</td>\n",
       "    </tr>\n",
       "    <tr>\n",
       "      <th>120-240</th>\n",
       "      <td>23.715810</td>\n",
       "      <td>30.083092</td>\n",
       "      <td>63</td>\n",
       "      <td>35</td>\n",
       "    </tr>\n",
       "    <tr>\n",
       "      <th>240-360</th>\n",
       "      <td>44.139891</td>\n",
       "      <td>17.690118</td>\n",
       "      <td>112</td>\n",
       "      <td>43</td>\n",
       "    </tr>\n",
       "    <tr>\n",
       "      <th>360-480</th>\n",
       "      <td>69.179783</td>\n",
       "      <td>9.485412</td>\n",
       "      <td>144</td>\n",
       "      <td>45</td>\n",
       "    </tr>\n",
       "    <tr>\n",
       "      <th>480-600</th>\n",
       "      <td>10.237543</td>\n",
       "      <td>9.216586</td>\n",
       "      <td>145</td>\n",
       "      <td>6</td>\n",
       "    </tr>\n",
       "  </tbody>\n",
       "</table>\n",
       "</div>"
      ],
      "text/plain": [
       "         DELAYAVG(ALL)  SPEEDAVG(ALL)  VEHACT(ALL)  VEHARR(ALL)\n",
       "TIMEINT                                                        \n",
       "0-120         9.794143      41.303189           26           17\n",
       "120-240      23.715810      30.083092           63           35\n",
       "240-360      44.139891      17.690118          112           43\n",
       "360-480      69.179783       9.485412          144           45\n",
       "480-600      10.237543       9.216586          145            6"
      ]
     },
     "execution_count": 10,
     "metadata": {},
     "output_type": "execute_result"
    }
   ],
   "source": [
    "df_scat_net"
   ]
  },
  {
   "cell_type": "code",
   "execution_count": 11,
   "id": "9cc0e9c8-6597-4476-8e59-6e3271666a8d",
   "metadata": {},
   "outputs": [],
   "source": [
    "df_scoot_net = pd.read_csv(\"9.11_Scoot1_network.csv\", header=1, index_col=0)"
   ]
  },
  {
   "cell_type": "code",
   "execution_count": 12,
   "id": "dcb48e56-61e1-4722-b22e-d6355b8236af",
   "metadata": {},
   "outputs": [],
   "source": [
    "df_scoot_net = df_scoot_net[:5]"
   ]
  },
  {
   "cell_type": "code",
   "execution_count": 13,
   "id": "e5fab7d8-94d0-411b-a86a-ca1d53670320",
   "metadata": {},
   "outputs": [
    {
     "data": {
      "text/html": [
       "<div>\n",
       "<style scoped>\n",
       "    .dataframe tbody tr th:only-of-type {\n",
       "        vertical-align: middle;\n",
       "    }\n",
       "\n",
       "    .dataframe tbody tr th {\n",
       "        vertical-align: top;\n",
       "    }\n",
       "\n",
       "    .dataframe thead th {\n",
       "        text-align: right;\n",
       "    }\n",
       "</style>\n",
       "<table border=\"1\" class=\"dataframe\">\n",
       "  <thead>\n",
       "    <tr style=\"text-align: right;\">\n",
       "      <th></th>\n",
       "      <th>DELAYAVG(ALL)</th>\n",
       "      <th>SPEEDAVG(ALL)</th>\n",
       "      <th>VEHACT(ALL)</th>\n",
       "      <th>VEHARR(ALL)</th>\n",
       "    </tr>\n",
       "    <tr>\n",
       "      <th>TIMEINT</th>\n",
       "      <th></th>\n",
       "      <th></th>\n",
       "      <th></th>\n",
       "      <th></th>\n",
       "    </tr>\n",
       "  </thead>\n",
       "  <tbody>\n",
       "    <tr>\n",
       "      <th>0-120</th>\n",
       "      <td>9.794143</td>\n",
       "      <td>41.303189</td>\n",
       "      <td>26</td>\n",
       "      <td>17</td>\n",
       "    </tr>\n",
       "    <tr>\n",
       "      <th>120-240</th>\n",
       "      <td>24.239521</td>\n",
       "      <td>29.698181</td>\n",
       "      <td>64</td>\n",
       "      <td>34</td>\n",
       "    </tr>\n",
       "    <tr>\n",
       "      <th>240-360</th>\n",
       "      <td>44.715635</td>\n",
       "      <td>17.365424</td>\n",
       "      <td>112</td>\n",
       "      <td>44</td>\n",
       "    </tr>\n",
       "    <tr>\n",
       "      <th>360-480</th>\n",
       "      <td>71.923190</td>\n",
       "      <td>9.187904</td>\n",
       "      <td>141</td>\n",
       "      <td>44</td>\n",
       "    </tr>\n",
       "    <tr>\n",
       "      <th>480-600</th>\n",
       "      <td>3.311543</td>\n",
       "      <td>8.554256</td>\n",
       "      <td>140</td>\n",
       "      <td>2</td>\n",
       "    </tr>\n",
       "  </tbody>\n",
       "</table>\n",
       "</div>"
      ],
      "text/plain": [
       "         DELAYAVG(ALL)  SPEEDAVG(ALL)  VEHACT(ALL)  VEHARR(ALL)\n",
       "TIMEINT                                                        \n",
       "0-120         9.794143      41.303189           26           17\n",
       "120-240      24.239521      29.698181           64           34\n",
       "240-360      44.715635      17.365424          112           44\n",
       "360-480      71.923190       9.187904          141           44\n",
       "480-600       3.311543       8.554256          140            2"
      ]
     },
     "execution_count": 13,
     "metadata": {},
     "output_type": "execute_result"
    }
   ],
   "source": [
    "df_scoot_net"
   ]
  },
  {
   "cell_type": "code",
   "execution_count": 14,
   "id": "22480142-9293-4b8d-bc81-156eccd00127",
   "metadata": {},
   "outputs": [],
   "source": [
    "df_ourdec_net = pd.read_csv(\"9.11_our1_network.csv\", header=1, index_col=0)"
   ]
  },
  {
   "cell_type": "code",
   "execution_count": 15,
   "id": "60761a77-9a17-4a8e-93c4-a4d217f43e32",
   "metadata": {},
   "outputs": [],
   "source": [
    "df_ourdec_net = df_ourdec_net[:5]"
   ]
  },
  {
   "cell_type": "code",
   "execution_count": 16,
   "id": "0c08089f-8027-48e1-9d81-6bcab40ce028",
   "metadata": {},
   "outputs": [
    {
     "data": {
      "text/html": [
       "<div>\n",
       "<style scoped>\n",
       "    .dataframe tbody tr th:only-of-type {\n",
       "        vertical-align: middle;\n",
       "    }\n",
       "\n",
       "    .dataframe tbody tr th {\n",
       "        vertical-align: top;\n",
       "    }\n",
       "\n",
       "    .dataframe thead th {\n",
       "        text-align: right;\n",
       "    }\n",
       "</style>\n",
       "<table border=\"1\" class=\"dataframe\">\n",
       "  <thead>\n",
       "    <tr style=\"text-align: right;\">\n",
       "      <th></th>\n",
       "      <th>DELAYAVG(ALL)</th>\n",
       "      <th>SPEEDAVG(ALL)</th>\n",
       "      <th>VEHACT(ALL)</th>\n",
       "      <th>VEHARR(ALL)</th>\n",
       "    </tr>\n",
       "    <tr>\n",
       "      <th>TIMEINT</th>\n",
       "      <th></th>\n",
       "      <th></th>\n",
       "      <th></th>\n",
       "      <th></th>\n",
       "    </tr>\n",
       "  </thead>\n",
       "  <tbody>\n",
       "    <tr>\n",
       "      <th>0-120</th>\n",
       "      <td>14.774420</td>\n",
       "      <td>34.865029</td>\n",
       "      <td>31</td>\n",
       "      <td>12</td>\n",
       "    </tr>\n",
       "    <tr>\n",
       "      <th>120-240</th>\n",
       "      <td>28.154638</td>\n",
       "      <td>17.324223</td>\n",
       "      <td>61</td>\n",
       "      <td>23</td>\n",
       "    </tr>\n",
       "    <tr>\n",
       "      <th>240-360</th>\n",
       "      <td>34.743487</td>\n",
       "      <td>9.735020</td>\n",
       "      <td>82</td>\n",
       "      <td>22</td>\n",
       "    </tr>\n",
       "    <tr>\n",
       "      <th>360-480</th>\n",
       "      <td>48.598356</td>\n",
       "      <td>3.153849</td>\n",
       "      <td>113</td>\n",
       "      <td>0</td>\n",
       "    </tr>\n",
       "    <tr>\n",
       "      <th>480-600</th>\n",
       "      <td>37.506947</td>\n",
       "      <td>5.545869</td>\n",
       "      <td>131</td>\n",
       "      <td>20</td>\n",
       "    </tr>\n",
       "  </tbody>\n",
       "</table>\n",
       "</div>"
      ],
      "text/plain": [
       "         DELAYAVG(ALL)  SPEEDAVG(ALL)  VEHACT(ALL)  VEHARR(ALL)\n",
       "TIMEINT                                                        \n",
       "0-120        14.774420      34.865029           31           12\n",
       "120-240      28.154638      17.324223           61           23\n",
       "240-360      34.743487       9.735020           82           22\n",
       "360-480      48.598356       3.153849          113            0\n",
       "480-600      37.506947       5.545869          131           20"
      ]
     },
     "execution_count": 16,
     "metadata": {},
     "output_type": "execute_result"
    }
   ],
   "source": [
    "df_ourdec_net"
   ]
  },
  {
   "cell_type": "code",
   "execution_count": 17,
   "id": "fba002e5-0215-4dd4-98cc-5bfac1cab769",
   "metadata": {},
   "outputs": [
    {
     "data": {
      "image/png": "[encoded data removed]",
      "text/plain": [
       "<Figure size 432x288 with 1 Axes>"
      ]
     },
     "metadata": {
      "needs_background": "light"
     },
     "output_type": "display_data"
    }
   ],
   "source": [
    "fig = plt.figure()\n",
    "plt.plot(df_no_net[\"DELAYAVG(ALL)\"], label=\"No Signaling\")\n",
    "plt.plot(df_eq_net[\"DELAYAVG(ALL)\"], label=\"Equal Time Signaling\")\n",
    "plt.plot(df_scat_net[\"DELAYAVG(ALL)\"], label=\"SCAT\")\n",
    "plt.plot(df_scoot_net[\"DELAYAVG(ALL)\"], label=\"SCOOT\")\n",
    "plt.plot(df_ourdec_net[\"DELAYAVG(ALL)\"], label=\"Our Decentralized Protocol\")\n",
    "plt.legend()\n",
    "plt.ylabel(\"Average Delay (in Seconds)\")\n",
    "plt.xlabel (\"Signaling Cycles (in Seconds Interval)\")\n",
    "plt.title(\"Delay Curve on Single Lane Merge for 1:1 Load\")\n",
    "plt.show()\n",
    "plt.close(fig)"
   ]
  },
  {
   "cell_type": "code",
   "execution_count": 18,
   "id": "b12d3fa5-7ea0-432d-906c-e9746c86a856",
   "metadata": {},
   "outputs": [
    {
     "data": {
      "image/png": "[encoded data removed]",
      "text/plain": [
       "<Figure size 432x288 with 1 Axes>"
      ]
     },
     "metadata": {
      "needs_background": "light"
     },
     "output_type": "display_data"
    }
   ],
   "source": [
    "fig = plt.figure()\n",
    "plt.plot(df_no_net[\"SPEEDAVG(ALL)\"], label=\"No Signaling\")\n",
    "plt.plot(df_eq_net[\"SPEEDAVG(ALL)\"], label=\"Equal Time Signaling\")\n",
    "plt.plot(df_scat_net[\"SPEEDAVG(ALL)\"], label=\"SCAT\")\n",
    "plt.plot(df_scoot_net[\"SPEEDAVG(ALL)\"], label=\"SCOOT\")\n",
    "plt.plot(df_ourdec_net[\"SPEEDAVG(ALL)\"], label=\"Our Decentralized Protocol\")\n",
    "plt.legend()\n",
    "plt.ylabel(\"Average Speed (in Km/hr)\")\n",
    "plt.xlabel (\"Signaling Cycles (in Seconds Interval)\")\n",
    "plt.title(\"Speed Curve on Single Lane Merge for 1:1 Load\")\n",
    "plt.show()\n",
    "plt.close(fig)"
   ]
  },
  {
   "cell_type": "code",
   "execution_count": 21,
   "id": "b826c434-72c8-49a6-b66c-095ecd9c91a1",
   "metadata": {},
   "outputs": [
    {
     "data": {
      "image/png": "[encoded data removed]",
      "text/plain": [
       "<Figure size 432x288 with 1 Axes>"
      ]
     },
     "metadata": {
      "needs_background": "light"
     },
     "output_type": "display_data"
    }
   ],
   "source": [
    "thpt = []\n",
    "thpt.append(df_no_net[\"VEHARR(ALL)\"].sum())\n",
    "thpt.append(df_eq_net[\"VEHARR(ALL)\"].sum())\n",
    "thpt.append(df_scat_net[\"VEHARR(ALL)\"].sum())\n",
    "thpt.append(df_scoot_net[\"VEHARR(ALL)\"].sum())\n",
    "thpt.append(df_ourdec_net[\"VEHARR(ALL)\"].sum())\n",
    "\n",
    "stgy = [\"No Signal\", \"Equal Signal\", \"SCAT\", \"SCOOT\", \"Decentralized\"]\n",
    "\n",
    "fig = plt.figure()\n",
    "plt.plot(stgy, thpt, '-x')\n",
    "plt.xlabel(\"Control Strategy\")\n",
    "plt.ylabel(\"Total Throughput (in Number of Cars)\")\n",
    "plt.title(\"Throughput plot of different strategies for 1:1 load\")\n",
    "plt.show()\n",
    "plt.close(fig)"
   ]
  },
  {
   "cell_type": "code",
   "execution_count": 54,
   "id": "4418300d-500e-4ab6-a537-748b69959bf0",
   "metadata": {},
   "outputs": [
    {
     "data": {
      "image/png": "[encoded data removed]",
      "text/plain": [
       "<Figure size 432x288 with 1 Axes>"
      ]
     },
     "metadata": {
      "needs_background": "light"
     },
     "output_type": "display_data"
    }
   ],
   "source": [
    "sim_end_time = [342, 438.9, 493, 484, 597.8]\n",
    "fig = plt.figure()\n",
    "plt.plot(stgy, sim_end_time, '-x')\n",
    "plt.xlabel(\"Control Strategy\")\n",
    "plt.ylabel(\"Jam Time (in seconds)\")\n",
    "plt.title(\"Time to hit a jam in different strategies for 1:1 load\")\n",
    "plt.show()\n",
    "plt.close(fig)"
   ]
  },
  {
   "cell_type": "code",
   "execution_count": null,
   "id": "568e62fa-5444-4212-841a-28e7447a2972",
   "metadata": {},
   "outputs": [],
   "source": []
  },
  {
   "cell_type": "markdown",
   "id": "ac3c25cf-b894-47e6-946f-e2268c00afb7",
   "metadata": {},
   "source": [
    "## Fairness Analysis"
   ]
  },
  {
   "cell_type": "code",
   "execution_count": 23,
   "id": "a00c3c47-9b7d-44f5-ab82-e17ef30abdc1",
   "metadata": {},
   "outputs": [],
   "source": [
    "df_no_link = pd.read_csv(\"9.11_no1 - links.csv\", header=1, index_col=0)"
   ]
  },
  {
   "cell_type": "code",
   "execution_count": 25,
   "id": "668beb04-5923-4db2-a394-925a3d53e2be",
   "metadata": {},
   "outputs": [],
   "source": [
    "df_no_link = df_no_link[:3]"
   ]
  },
  {
   "cell_type": "code",
   "execution_count": 26,
   "id": "ecb91684-7efa-40b8-bb37-1a444203c2f3",
   "metadata": {},
   "outputs": [
    {
     "name": "stderr",
     "output_type": "stream",
     "text": [
      "/state/partition1/job-37600577/ipykernel_1475120/3505147084.py:1: SettingWithCopyWarning: \n",
      "A value is trying to be set on a copy of a slice from a DataFrame.\n",
      "Try using .loc[row_indexer,col_indexer] = value instead\n",
      "\n",
      "See the caveats in the documentation: https://pandas.pydata.org/pandas-docs/stable/user_guide/indexing.html#returning-a-view-versus-a-copy\n",
      "  df_no_link[\"L1_density\"] = (400*df_no_link[\"L1_density\"]+150*df_no_link[\"L3_density\"])/550\n",
      "/state/partition1/job-37600577/ipykernel_1475120/3505147084.py:2: SettingWithCopyWarning: \n",
      "A value is trying to be set on a copy of a slice from a DataFrame.\n",
      "Try using .loc[row_indexer,col_indexer] = value instead\n",
      "\n",
      "See the caveats in the documentation: https://pandas.pydata.org/pandas-docs/stable/user_guide/indexing.html#returning-a-view-versus-a-copy\n",
      "  df_no_link[\"L1_delay\"] = (df_no_link[\"L1_delay\"].str[:-1]).astype(float)+(df_no_link[\"L3_delay\"].str[:-1]).astype(float)\n",
      "/state/partition1/job-37600577/ipykernel_1475120/3505147084.py:3: SettingWithCopyWarning: \n",
      "A value is trying to be set on a copy of a slice from a DataFrame.\n",
      "Try using .loc[row_indexer,col_indexer] = value instead\n",
      "\n",
      "See the caveats in the documentation: https://pandas.pydata.org/pandas-docs/stable/user_guide/indexing.html#returning-a-view-versus-a-copy\n",
      "  df_no_link[\"L1_Speed\"] = (550*df_no_link[\"L1_Speed\"]*df_no_link[\"L3_Speed\"])/(400*df_no_link[\"L3_Speed\"]+150*df_no_link[\"L1_Speed\"])\n"
     ]
    }
   ],
   "source": [
    "df_no_link[\"L1_density\"] = (400*df_no_link[\"L1_density\"]+150*df_no_link[\"L3_density\"])/550\n",
    "df_no_link[\"L1_delay\"] = (df_no_link[\"L1_delay\"].str[:-1]).astype(float)+(df_no_link[\"L3_delay\"].str[:-1]).astype(float)\n",
    "df_no_link[\"L1_Speed\"] = (550*df_no_link[\"L1_Speed\"]*df_no_link[\"L3_Speed\"])/(400*df_no_link[\"L3_Speed\"]+150*df_no_link[\"L1_Speed\"])\n",
    "df_no_link = df_no_link.drop([\"L3_density\", \"L3_delay\", \"L3_Speed\"],axis=1)\n",
    "df_no_link[\"L2_density\"] = (400*df_no_link[\"L2_density\"]+150*df_no_link[\"L4_density\"])/550\n",
    "df_no_link[\"L2_delay\"] = (df_no_link[\"L2_delay\"].str[:-1]).astype(float)+(df_no_link[\"L4_delay\"].str[:-1]).astype(float)\n",
    "df_no_link[\"L2_Speed\"] = (550*df_no_link[\"L2_Speed\"]*df_no_link[\"L4_Speed\"])/(400*df_no_link[\"L2_Speed\"]+150*df_no_link[\"L4_Speed\"])\n",
    "df_no_link = df_no_link.drop([\"L4_density\", \"L4_delay\", \"L4_Speed\"],axis=1)\n",
    "df_no_link = df_no_link.drop([\"L5_density\", \"L5_delay\", \"L5_Speed\"],axis=1)\n",
    "df_no_link[\"Density Ratio\"] = df_no_link[\"L1_density\"]/df_no_link[\"L2_density\"]\n",
    "df_no_link[\"Delay Ratio\"] = df_no_link[\"L1_delay\"]/df_no_link[\"L2_delay\"]\n",
    "df_no_link[\"Speed Ratio\"] = df_no_link[\"L1_Speed\"]/df_no_link[\"L2_Speed\"]\n",
    "df_no_link = df_no_link.drop([\"L1_density\", \"L1_delay\", \"L1_Speed\"],axis=1)\n",
    "df_no_link = df_no_link.drop([\"L2_density\", \"L2_delay\", \"L2_Speed\"],axis=1)\n",
    "df_no_link.replace([np.inf, -np.inf], np.nan, inplace=True)"
   ]
  },
  {
   "cell_type": "code",
   "execution_count": 27,
   "id": "beaec0b4-aaee-464e-9c09-04afa90cf2a9",
   "metadata": {},
   "outputs": [
    {
     "data": {
      "text/html": [
       "<div>\n",
       "<style scoped>\n",
       "    .dataframe tbody tr th:only-of-type {\n",
       "        vertical-align: middle;\n",
       "    }\n",
       "\n",
       "    .dataframe tbody tr th {\n",
       "        vertical-align: top;\n",
       "    }\n",
       "\n",
       "    .dataframe thead th {\n",
       "        text-align: right;\n",
       "    }\n",
       "</style>\n",
       "<table border=\"1\" class=\"dataframe\">\n",
       "  <thead>\n",
       "    <tr style=\"text-align: right;\">\n",
       "      <th></th>\n",
       "      <th>Density Ratio</th>\n",
       "      <th>Delay Ratio</th>\n",
       "      <th>Speed Ratio</th>\n",
       "    </tr>\n",
       "    <tr>\n",
       "      <th>TIMEINT</th>\n",
       "      <th></th>\n",
       "      <th></th>\n",
       "      <th></th>\n",
       "    </tr>\n",
       "  </thead>\n",
       "  <tbody>\n",
       "    <tr>\n",
       "      <th>0-120</th>\n",
       "      <td>1.127104</td>\n",
       "      <td>0.905002</td>\n",
       "      <td>2.205689</td>\n",
       "    </tr>\n",
       "    <tr>\n",
       "      <th>120-240</th>\n",
       "      <td>1.097007</td>\n",
       "      <td>1.038640</td>\n",
       "      <td>2.754558</td>\n",
       "    </tr>\n",
       "    <tr>\n",
       "      <th>240-360</th>\n",
       "      <td>1.058868</td>\n",
       "      <td>0.994636</td>\n",
       "      <td>2.409138</td>\n",
       "    </tr>\n",
       "  </tbody>\n",
       "</table>\n",
       "</div>"
      ],
      "text/plain": [
       "         Density Ratio  Delay Ratio  Speed Ratio\n",
       "TIMEINT                                         \n",
       "0-120         1.127104     0.905002     2.205689\n",
       "120-240       1.097007     1.038640     2.754558\n",
       "240-360       1.058868     0.994636     2.409138"
      ]
     },
     "execution_count": 27,
     "metadata": {},
     "output_type": "execute_result"
    }
   ],
   "source": [
    "df_no_link"
   ]
  },
  {
   "cell_type": "code",
   "execution_count": 28,
   "id": "40ee2dc9-2de0-4edf-8e9c-538e0c70e5ea",
   "metadata": {},
   "outputs": [],
   "source": [
    "df_eq_link = pd.read_csv(\"9.11_sig1 - links.csv\", header=1, index_col=0)"
   ]
  },
  {
   "cell_type": "code",
   "execution_count": 30,
   "id": "89231c53-2b15-47d7-bf31-f9f38f31ec22",
   "metadata": {},
   "outputs": [],
   "source": [
    "df_eq_link = df_eq_link[:4]"
   ]
  },
  {
   "cell_type": "code",
   "execution_count": 31,
   "id": "84ce9e52-4d20-4c01-9190-46d4b478839f",
   "metadata": {},
   "outputs": [
    {
     "name": "stderr",
     "output_type": "stream",
     "text": [
      "/state/partition1/job-37600577/ipykernel_1475120/2669043782.py:1: SettingWithCopyWarning: \n",
      "A value is trying to be set on a copy of a slice from a DataFrame.\n",
      "Try using .loc[row_indexer,col_indexer] = value instead\n",
      "\n",
      "See the caveats in the documentation: https://pandas.pydata.org/pandas-docs/stable/user_guide/indexing.html#returning-a-view-versus-a-copy\n",
      "  df_eq_link[\"L1_density\"] = (400*df_eq_link[\"L1_density\"]+150*df_eq_link[\"L3_density\"])/550\n",
      "/state/partition1/job-37600577/ipykernel_1475120/2669043782.py:2: SettingWithCopyWarning: \n",
      "A value is trying to be set on a copy of a slice from a DataFrame.\n",
      "Try using .loc[row_indexer,col_indexer] = value instead\n",
      "\n",
      "See the caveats in the documentation: https://pandas.pydata.org/pandas-docs/stable/user_guide/indexing.html#returning-a-view-versus-a-copy\n",
      "  df_eq_link[\"L1_delay\"] = (df_eq_link[\"L1_delay\"].str[:-1]).astype(float)+(df_eq_link[\"L3_delay\"].str[:-1]).astype(float)\n",
      "/state/partition1/job-37600577/ipykernel_1475120/2669043782.py:3: SettingWithCopyWarning: \n",
      "A value is trying to be set on a copy of a slice from a DataFrame.\n",
      "Try using .loc[row_indexer,col_indexer] = value instead\n",
      "\n",
      "See the caveats in the documentation: https://pandas.pydata.org/pandas-docs/stable/user_guide/indexing.html#returning-a-view-versus-a-copy\n",
      "  df_eq_link[\"L1_Speed\"] = (550*df_eq_link[\"L1_Speed\"]*df_eq_link[\"L3_Speed\"])/(400*df_eq_link[\"L3_Speed\"]+150*df_eq_link[\"L1_Speed\"])\n"
     ]
    }
   ],
   "source": [
    "df_eq_link[\"L1_density\"] = (400*df_eq_link[\"L1_density\"]+150*df_eq_link[\"L3_density\"])/550\n",
    "df_eq_link[\"L1_delay\"] = (df_eq_link[\"L1_delay\"].str[:-1]).astype(float)+(df_eq_link[\"L3_delay\"].str[:-1]).astype(float)\n",
    "df_eq_link[\"L1_Speed\"] = (550*df_eq_link[\"L1_Speed\"]*df_eq_link[\"L3_Speed\"])/(400*df_eq_link[\"L3_Speed\"]+150*df_eq_link[\"L1_Speed\"])\n",
    "df_eq_link = df_eq_link.drop([\"L3_density\", \"L3_delay\", \"L3_Speed\"],axis=1)\n",
    "df_eq_link[\"L2_density\"] = (400*df_eq_link[\"L2_density\"]+150*df_eq_link[\"L4_density\"])/550\n",
    "df_eq_link[\"L2_delay\"] = (df_eq_link[\"L2_delay\"].str[:-1]).astype(float)+(df_eq_link[\"L4_delay\"].str[:-1]).astype(float)\n",
    "df_eq_link[\"L2_Speed\"] = (550*df_eq_link[\"L2_Speed\"]*df_eq_link[\"L4_Speed\"])/(400*df_eq_link[\"L2_Speed\"]+150*df_eq_link[\"L4_Speed\"])\n",
    "df_eq_link = df_eq_link.drop([\"L4_density\", \"L4_delay\", \"L4_Speed\"],axis=1)\n",
    "df_eq_link = df_eq_link.drop([\"L5_density\", \"L5_delay\", \"L5_Speed\"],axis=1)\n",
    "df_eq_link[\"Density Ratio\"] = df_eq_link[\"L1_density\"]/df_eq_link[\"L2_density\"]\n",
    "df_eq_link[\"Delay Ratio\"] = df_eq_link[\"L1_delay\"]/df_eq_link[\"L2_delay\"]\n",
    "df_eq_link[\"Speed Ratio\"] = df_eq_link[\"L1_Speed\"]/df_eq_link[\"L2_Speed\"]\n",
    "df_eq_link = df_eq_link.drop([\"L1_density\", \"L1_delay\", \"L1_Speed\"],axis=1)\n",
    "df_eq_link = df_eq_link.drop([\"L2_density\", \"L2_delay\", \"L2_Speed\"],axis=1)\n",
    "df_eq_link.replace([np.inf, -np.inf], np.nan, inplace=True)"
   ]
  },
  {
   "cell_type": "code",
   "execution_count": 32,
   "id": "cc7ae496-9df1-4389-9582-66b79ffcbf5a",
   "metadata": {},
   "outputs": [
    {
     "data": {
      "text/html": [
       "<div>\n",
       "<style scoped>\n",
       "    .dataframe tbody tr th:only-of-type {\n",
       "        vertical-align: middle;\n",
       "    }\n",
       "\n",
       "    .dataframe tbody tr th {\n",
       "        vertical-align: top;\n",
       "    }\n",
       "\n",
       "    .dataframe thead th {\n",
       "        text-align: right;\n",
       "    }\n",
       "</style>\n",
       "<table border=\"1\" class=\"dataframe\">\n",
       "  <thead>\n",
       "    <tr style=\"text-align: right;\">\n",
       "      <th></th>\n",
       "      <th>Density Ratio</th>\n",
       "      <th>Delay Ratio</th>\n",
       "      <th>Speed Ratio</th>\n",
       "    </tr>\n",
       "    <tr>\n",
       "      <th>TIMEINT</th>\n",
       "      <th></th>\n",
       "      <th></th>\n",
       "      <th></th>\n",
       "    </tr>\n",
       "  </thead>\n",
       "  <tbody>\n",
       "    <tr>\n",
       "      <th>0-120</th>\n",
       "      <td>1.731979</td>\n",
       "      <td>6.088479</td>\n",
       "      <td>0.705164</td>\n",
       "    </tr>\n",
       "    <tr>\n",
       "      <th>120-240</th>\n",
       "      <td>1.828209</td>\n",
       "      <td>2.145741</td>\n",
       "      <td>0.551584</td>\n",
       "    </tr>\n",
       "    <tr>\n",
       "      <th>240-360</th>\n",
       "      <td>1.728439</td>\n",
       "      <td>1.804328</td>\n",
       "      <td>0.445995</td>\n",
       "    </tr>\n",
       "    <tr>\n",
       "      <th>360-480</th>\n",
       "      <td>1.624856</td>\n",
       "      <td>1.362158</td>\n",
       "      <td>0.984980</td>\n",
       "    </tr>\n",
       "  </tbody>\n",
       "</table>\n",
       "</div>"
      ],
      "text/plain": [
       "         Density Ratio  Delay Ratio  Speed Ratio\n",
       "TIMEINT                                         \n",
       "0-120         1.731979     6.088479     0.705164\n",
       "120-240       1.828209     2.145741     0.551584\n",
       "240-360       1.728439     1.804328     0.445995\n",
       "360-480       1.624856     1.362158     0.984980"
      ]
     },
     "execution_count": 32,
     "metadata": {},
     "output_type": "execute_result"
    }
   ],
   "source": [
    "df_eq_link"
   ]
  },
  {
   "cell_type": "code",
   "execution_count": 34,
   "id": "7abbd6ce-de0e-45b3-add1-f8b107fa8aad",
   "metadata": {},
   "outputs": [],
   "source": [
    "df_scat_link = pd.read_csv(\"9.11_Scats1 - links.csv\", header=1, index_col=0)"
   ]
  },
  {
   "cell_type": "code",
   "execution_count": 36,
   "id": "0c6ac071-2ef7-47e3-bbc8-acdd8654c679",
   "metadata": {},
   "outputs": [],
   "source": [
    "df_scat_link = df_scat_link[:5]"
   ]
  },
  {
   "cell_type": "code",
   "execution_count": 37,
   "id": "bdcc70ae-2e7e-40dc-988d-bfe244a81044",
   "metadata": {},
   "outputs": [
    {
     "name": "stderr",
     "output_type": "stream",
     "text": [
      "/state/partition1/job-37600577/ipykernel_1475120/3650826362.py:1: SettingWithCopyWarning: \n",
      "A value is trying to be set on a copy of a slice from a DataFrame.\n",
      "Try using .loc[row_indexer,col_indexer] = value instead\n",
      "\n",
      "See the caveats in the documentation: https://pandas.pydata.org/pandas-docs/stable/user_guide/indexing.html#returning-a-view-versus-a-copy\n",
      "  df_scat_link[\"L1_density\"] = (400*df_scat_link[\"L1_density\"]+150*df_scat_link[\"L3_density\"])/550\n",
      "/state/partition1/job-37600577/ipykernel_1475120/3650826362.py:2: SettingWithCopyWarning: \n",
      "A value is trying to be set on a copy of a slice from a DataFrame.\n",
      "Try using .loc[row_indexer,col_indexer] = value instead\n",
      "\n",
      "See the caveats in the documentation: https://pandas.pydata.org/pandas-docs/stable/user_guide/indexing.html#returning-a-view-versus-a-copy\n",
      "  df_scat_link[\"L1_delay\"] = (df_scat_link[\"L1_delay\"].str[:-1]).astype(float)+(df_scat_link[\"L3_delay\"].str[:-1]).astype(float)\n",
      "/state/partition1/job-37600577/ipykernel_1475120/3650826362.py:3: SettingWithCopyWarning: \n",
      "A value is trying to be set on a copy of a slice from a DataFrame.\n",
      "Try using .loc[row_indexer,col_indexer] = value instead\n",
      "\n",
      "See the caveats in the documentation: https://pandas.pydata.org/pandas-docs/stable/user_guide/indexing.html#returning-a-view-versus-a-copy\n",
      "  df_scat_link[\"L1_Speed\"] = (550*df_scat_link[\"L1_Speed\"]*df_scat_link[\"L3_Speed\"])/(400*df_scat_link[\"L3_Speed\"]+150*df_scat_link[\"L1_Speed\"])\n"
     ]
    }
   ],
   "source": [
    "df_scat_link[\"L1_density\"] = (400*df_scat_link[\"L1_density\"]+150*df_scat_link[\"L3_density\"])/550\n",
    "df_scat_link[\"L1_delay\"] = (df_scat_link[\"L1_delay\"].str[:-1]).astype(float)+(df_scat_link[\"L3_delay\"].str[:-1]).astype(float)\n",
    "df_scat_link[\"L1_Speed\"] = (550*df_scat_link[\"L1_Speed\"]*df_scat_link[\"L3_Speed\"])/(400*df_scat_link[\"L3_Speed\"]+150*df_scat_link[\"L1_Speed\"])\n",
    "df_scat_link = df_scat_link.drop([\"L3_density\", \"L3_delay\", \"L3_Speed\"],axis=1)\n",
    "df_scat_link[\"L2_density\"] = (400*df_scat_link[\"L2_density\"]+150*df_scat_link[\"L4_density\"])/550\n",
    "df_scat_link[\"L2_delay\"] = (df_scat_link[\"L2_delay\"].str[:-1]).astype(float)+(df_scat_link[\"L4_delay\"].str[:-1]).astype(float)\n",
    "df_scat_link[\"L2_Speed\"] = (550*df_scat_link[\"L2_Speed\"]*df_scat_link[\"L4_Speed\"])/(400*df_scat_link[\"L2_Speed\"]+150*df_scat_link[\"L4_Speed\"])\n",
    "df_scat_link = df_scat_link.drop([\"L4_density\", \"L4_delay\", \"L4_Speed\"],axis=1)\n",
    "df_scat_link = df_scat_link.drop([\"L5_density\", \"L5_delay\", \"L5_Speed\"],axis=1)\n",
    "df_scat_link[\"Density Ratio\"] = df_scat_link[\"L1_density\"]/df_scat_link[\"L2_density\"]\n",
    "df_scat_link[\"Delay Ratio\"] = df_scat_link[\"L1_delay\"]/df_scat_link[\"L2_delay\"]\n",
    "df_scat_link[\"Speed Ratio\"] = df_scat_link[\"L1_Speed\"]/df_scat_link[\"L2_Speed\"]\n",
    "df_scat_link = df_scat_link.drop([\"L1_density\", \"L1_delay\", \"L1_Speed\"],axis=1)\n",
    "df_scat_link = df_scat_link.drop([\"L2_density\", \"L2_delay\", \"L2_Speed\"],axis=1)\n",
    "df_scat_link.replace([np.inf, -np.inf], np.nan, inplace=True)"
   ]
  },
  {
   "cell_type": "code",
   "execution_count": 38,
   "id": "f2b016c6-6258-43cd-8353-39a5eaadd926",
   "metadata": {},
   "outputs": [
    {
     "data": {
      "text/html": [
       "<div>\n",
       "<style scoped>\n",
       "    .dataframe tbody tr th:only-of-type {\n",
       "        vertical-align: middle;\n",
       "    }\n",
       "\n",
       "    .dataframe tbody tr th {\n",
       "        vertical-align: top;\n",
       "    }\n",
       "\n",
       "    .dataframe thead th {\n",
       "        text-align: right;\n",
       "    }\n",
       "</style>\n",
       "<table border=\"1\" class=\"dataframe\">\n",
       "  <thead>\n",
       "    <tr style=\"text-align: right;\">\n",
       "      <th></th>\n",
       "      <th>Density Ratio</th>\n",
       "      <th>Delay Ratio</th>\n",
       "      <th>Speed Ratio</th>\n",
       "    </tr>\n",
       "    <tr>\n",
       "      <th>TIMEINT</th>\n",
       "      <th></th>\n",
       "      <th></th>\n",
       "      <th></th>\n",
       "    </tr>\n",
       "  </thead>\n",
       "  <tbody>\n",
       "    <tr>\n",
       "      <th>0-120</th>\n",
       "      <td>1.576666</td>\n",
       "      <td>2.558060</td>\n",
       "      <td>0.858274</td>\n",
       "    </tr>\n",
       "    <tr>\n",
       "      <th>120-240</th>\n",
       "      <td>1.673846</td>\n",
       "      <td>1.500501</td>\n",
       "      <td>0.684524</td>\n",
       "    </tr>\n",
       "    <tr>\n",
       "      <th>240-360</th>\n",
       "      <td>1.546639</td>\n",
       "      <td>1.441818</td>\n",
       "      <td>0.704524</td>\n",
       "    </tr>\n",
       "    <tr>\n",
       "      <th>360-480</th>\n",
       "      <td>1.353711</td>\n",
       "      <td>1.137305</td>\n",
       "      <td>0.499504</td>\n",
       "    </tr>\n",
       "    <tr>\n",
       "      <th>480-600</th>\n",
       "      <td>1.508600</td>\n",
       "      <td>1.653661</td>\n",
       "      <td>0.000000</td>\n",
       "    </tr>\n",
       "  </tbody>\n",
       "</table>\n",
       "</div>"
      ],
      "text/plain": [
       "         Density Ratio  Delay Ratio  Speed Ratio\n",
       "TIMEINT                                         \n",
       "0-120         1.576666     2.558060     0.858274\n",
       "120-240       1.673846     1.500501     0.684524\n",
       "240-360       1.546639     1.441818     0.704524\n",
       "360-480       1.353711     1.137305     0.499504\n",
       "480-600       1.508600     1.653661     0.000000"
      ]
     },
     "execution_count": 38,
     "metadata": {},
     "output_type": "execute_result"
    }
   ],
   "source": [
    "df_scat_link"
   ]
  },
  {
   "cell_type": "code",
   "execution_count": 39,
   "id": "c730101f-0c1d-4be9-8d00-c6434e3d0bc0",
   "metadata": {},
   "outputs": [],
   "source": [
    "df_scoot_link = pd.read_csv(\"9.11_Scoot1 - links.csv\", header=1, index_col=0)"
   ]
  },
  {
   "cell_type": "code",
   "execution_count": 40,
   "id": "b6948e14-36af-4f28-85b4-eab8aa60dec6",
   "metadata": {},
   "outputs": [],
   "source": [
    "df_scoot_link = df_scoot_link[:5]"
   ]
  },
  {
   "cell_type": "code",
   "execution_count": 41,
   "id": "bdee3abd-f914-46a9-a3b6-14148e1c6675",
   "metadata": {},
   "outputs": [],
   "source": [
    "df_scoot_link[\"L1_density\"] = (400*df_scoot_link[\"L1_density\"]+150*df_scoot_link[\"L3_density\"])/550\n",
    "df_scoot_link[\"L1_delay\"] = (df_scoot_link[\"L1_delay\"].str[:-1]).astype(float)+(df_scoot_link[\"L3_delay\"].str[:-1]).astype(float)\n",
    "df_scoot_link[\"L1_Speed\"] = (550*df_scoot_link[\"L1_Speed\"]*df_scoot_link[\"L3_Speed\"])/(400*df_scoot_link[\"L3_Speed\"]+150*df_scoot_link[\"L1_Speed\"])\n",
    "df_scoot_link = df_scoot_link.drop([\"L3_density\", \"L3_delay\", \"L3_Speed\"],axis=1)\n",
    "df_scoot_link[\"L2_density\"] = (400*df_scoot_link[\"L2_density\"]+150*df_scoot_link[\"L4_density\"])/550\n",
    "df_scoot_link[\"L2_delay\"] = (df_scoot_link[\"L2_delay\"].str[:-1]).astype(float)+(df_scoot_link[\"L4_delay\"].str[:-1]).astype(float)\n",
    "df_scoot_link[\"L2_Speed\"] = (550*df_scoot_link[\"L2_Speed\"]*df_scoot_link[\"L4_Speed\"])/(400*df_scoot_link[\"L2_Speed\"]+150*df_scoot_link[\"L4_Speed\"])\n",
    "df_scoot_link = df_scoot_link.drop([\"L4_density\", \"L4_delay\", \"L4_Speed\"],axis=1)\n",
    "df_scoot_link = df_scoot_link.drop([\"L5_density\", \"L5_delay\", \"L5_Speed\"],axis=1)\n",
    "df_scoot_link[\"Density Ratio\"] = df_scoot_link[\"L1_density\"]/df_scoot_link[\"L2_density\"]\n",
    "df_scoot_link[\"Delay Ratio\"] = df_scoot_link[\"L1_delay\"]/df_scoot_link[\"L2_delay\"]\n",
    "df_scoot_link[\"Speed Ratio\"] = df_scoot_link[\"L1_Speed\"]/df_scoot_link[\"L2_Speed\"]\n",
    "df_scoot_link = df_scoot_link.drop([\"L1_density\", \"L1_delay\", \"L1_Speed\"],axis=1)\n",
    "df_scoot_link = df_scoot_link.drop([\"L2_density\", \"L2_delay\", \"L2_Speed\"],axis=1)\n",
    "df_scoot_link.replace([np.inf, -np.inf], np.nan, inplace=True)"
   ]
  },
  {
   "cell_type": "code",
   "execution_count": 42,
   "id": "ac019728-66c4-4ad2-a6c1-d806faf71bb3",
   "metadata": {},
   "outputs": [
    {
     "data": {
      "text/html": [
       "<div>\n",
       "<style scoped>\n",
       "    .dataframe tbody tr th:only-of-type {\n",
       "        vertical-align: middle;\n",
       "    }\n",
       "\n",
       "    .dataframe tbody tr th {\n",
       "        vertical-align: top;\n",
       "    }\n",
       "\n",
       "    .dataframe thead th {\n",
       "        text-align: right;\n",
       "    }\n",
       "</style>\n",
       "<table border=\"1\" class=\"dataframe\">\n",
       "  <thead>\n",
       "    <tr style=\"text-align: right;\">\n",
       "      <th></th>\n",
       "      <th>Density Ratio</th>\n",
       "      <th>Delay Ratio</th>\n",
       "      <th>Speed Ratio</th>\n",
       "    </tr>\n",
       "    <tr>\n",
       "      <th>TIMEINT</th>\n",
       "      <th></th>\n",
       "      <th></th>\n",
       "      <th></th>\n",
       "    </tr>\n",
       "  </thead>\n",
       "  <tbody>\n",
       "    <tr>\n",
       "      <th>0-120</th>\n",
       "      <td>1.576666</td>\n",
       "      <td>2.558060</td>\n",
       "      <td>0.858274</td>\n",
       "    </tr>\n",
       "    <tr>\n",
       "      <th>120-240</th>\n",
       "      <td>1.572753</td>\n",
       "      <td>1.310391</td>\n",
       "      <td>0.847847</td>\n",
       "    </tr>\n",
       "    <tr>\n",
       "      <th>240-360</th>\n",
       "      <td>1.323796</td>\n",
       "      <td>1.295626</td>\n",
       "      <td>0.991307</td>\n",
       "    </tr>\n",
       "    <tr>\n",
       "      <th>360-480</th>\n",
       "      <td>1.201680</td>\n",
       "      <td>1.084195</td>\n",
       "      <td>0.614141</td>\n",
       "    </tr>\n",
       "    <tr>\n",
       "      <th>480-600</th>\n",
       "      <td>1.449326</td>\n",
       "      <td>1.352995</td>\n",
       "      <td>0.002114</td>\n",
       "    </tr>\n",
       "  </tbody>\n",
       "</table>\n",
       "</div>"
      ],
      "text/plain": [
       "         Density Ratio  Delay Ratio  Speed Ratio\n",
       "TIMEINT                                         \n",
       "0-120         1.576666     2.558060     0.858274\n",
       "120-240       1.572753     1.310391     0.847847\n",
       "240-360       1.323796     1.295626     0.991307\n",
       "360-480       1.201680     1.084195     0.614141\n",
       "480-600       1.449326     1.352995     0.002114"
      ]
     },
     "execution_count": 42,
     "metadata": {},
     "output_type": "execute_result"
    }
   ],
   "source": [
    "df_scoot_link"
   ]
  },
  {
   "cell_type": "code",
   "execution_count": 51,
   "id": "5f032c12-07d5-4645-ac12-58986110d8a7",
   "metadata": {},
   "outputs": [],
   "source": [
    "df_ourdec_link = pd.read_csv(\"9.11_our1 - links.csv\", header=1, index_col=0)"
   ]
  },
  {
   "cell_type": "code",
   "execution_count": 52,
   "id": "66cdb0e1-7395-45aa-9eaf-599124f47356",
   "metadata": {},
   "outputs": [],
   "source": [
    "df_ourdec_link = df_ourdec_link[:5]"
   ]
  },
  {
   "cell_type": "code",
   "execution_count": 53,
   "id": "403cd7a7-116a-4b80-8fee-a88cf0f1896c",
   "metadata": {},
   "outputs": [
    {
     "data": {
      "text/html": [
       "<div>\n",
       "<style scoped>\n",
       "    .dataframe tbody tr th:only-of-type {\n",
       "        vertical-align: middle;\n",
       "    }\n",
       "\n",
       "    .dataframe tbody tr th {\n",
       "        vertical-align: top;\n",
       "    }\n",
       "\n",
       "    .dataframe thead th {\n",
       "        text-align: right;\n",
       "    }\n",
       "</style>\n",
       "<table border=\"1\" class=\"dataframe\">\n",
       "  <thead>\n",
       "    <tr style=\"text-align: right;\">\n",
       "      <th></th>\n",
       "      <th>L1_density</th>\n",
       "      <th>L1_delay</th>\n",
       "      <th>L1_Speed</th>\n",
       "      <th>L2_density</th>\n",
       "      <th>L2_delay</th>\n",
       "      <th>L2_Speed</th>\n",
       "      <th>L3_density</th>\n",
       "      <th>L3_delay</th>\n",
       "      <th>L3_Speed</th>\n",
       "      <th>L4_density</th>\n",
       "      <th>L4_delay</th>\n",
       "      <th>L4_Speed</th>\n",
       "      <th>L5_density</th>\n",
       "      <th>L5_delay</th>\n",
       "      <th>L5_Speed</th>\n",
       "    </tr>\n",
       "    <tr>\n",
       "      <th>TIMEINT</th>\n",
       "      <th></th>\n",
       "      <th></th>\n",
       "      <th></th>\n",
       "      <th></th>\n",
       "      <th></th>\n",
       "      <th></th>\n",
       "      <th></th>\n",
       "      <th></th>\n",
       "      <th></th>\n",
       "      <th></th>\n",
       "      <th></th>\n",
       "      <th></th>\n",
       "      <th></th>\n",
       "      <th></th>\n",
       "      <th></th>\n",
       "    </tr>\n",
       "  </thead>\n",
       "  <tbody>\n",
       "    <tr>\n",
       "      <th>0-120</th>\n",
       "      <td>12.673782</td>\n",
       "      <td>1.07%</td>\n",
       "      <td>46.577874</td>\n",
       "      <td>9.804311</td>\n",
       "      <td>0.07%</td>\n",
       "      <td>50.075657</td>\n",
       "      <td>28.981381</td>\n",
       "      <td>66.72%</td>\n",
       "      <td>15.524059</td>\n",
       "      <td>16.339342</td>\n",
       "      <td>52.81%</td>\n",
       "      <td>23.190971</td>\n",
       "      <td>8.652817</td>\n",
       "      <td>0.00%</td>\n",
       "      <td>47.284638</td>\n",
       "    </tr>\n",
       "    <tr>\n",
       "      <th>120-240</th>\n",
       "      <td>28.942498</td>\n",
       "      <td>4.25%</td>\n",
       "      <td>33.108866</td>\n",
       "      <td>26.034601</td>\n",
       "      <td>32.64%</td>\n",
       "      <td>5.820800</td>\n",
       "      <td>44.872866</td>\n",
       "      <td>56.00%</td>\n",
       "      <td>18.267940</td>\n",
       "      <td>65.343887</td>\n",
       "      <td>98.14%</td>\n",
       "      <td>0.877539</td>\n",
       "      <td>15.811474</td>\n",
       "      <td>0.00%</td>\n",
       "      <td>45.391949</td>\n",
       "    </tr>\n",
       "    <tr>\n",
       "      <th>240-360</th>\n",
       "      <td>53.845028</td>\n",
       "      <td>20.32%</td>\n",
       "      <td>7.171233</td>\n",
       "      <td>56.724373</td>\n",
       "      <td>24.38%</td>\n",
       "      <td>11.020206</td>\n",
       "      <td>67.365143</td>\n",
       "      <td>91.29%</td>\n",
       "      <td>3.514473</td>\n",
       "      <td>60.399107</td>\n",
       "      <td>84.88%</td>\n",
       "      <td>6.861350</td>\n",
       "      <td>12.395948</td>\n",
       "      <td>1.56%</td>\n",
       "      <td>46.775803</td>\n",
       "    </tr>\n",
       "    <tr>\n",
       "      <th>360-480</th>\n",
       "      <td>78.791097</td>\n",
       "      <td>15.17%</td>\n",
       "      <td>4.711696</td>\n",
       "      <td>70.680201</td>\n",
       "      <td>15.58%</td>\n",
       "      <td>4.777044</td>\n",
       "      <td>101.066572</td>\n",
       "      <td>97.92%</td>\n",
       "      <td>0.780903</td>\n",
       "      <td>112.093061</td>\n",
       "      <td>98.13%</td>\n",
       "      <td>0.476917</td>\n",
       "      <td>0.000000</td>\n",
       "      <td>0.00%</td>\n",
       "      <td>0.000000</td>\n",
       "    </tr>\n",
       "    <tr>\n",
       "      <th>480-600</th>\n",
       "      <td>100.023948</td>\n",
       "      <td>11.97%</td>\n",
       "      <td>4.854331</td>\n",
       "      <td>95.825772</td>\n",
       "      <td>11.41%</td>\n",
       "      <td>4.933205</td>\n",
       "      <td>101.529215</td>\n",
       "      <td>88.01%</td>\n",
       "      <td>5.036570</td>\n",
       "      <td>149.236093</td>\n",
       "      <td>97.78%</td>\n",
       "      <td>0.489577</td>\n",
       "      <td>15.370634</td>\n",
       "      <td>1.70%</td>\n",
       "      <td>45.513834</td>\n",
       "    </tr>\n",
       "  </tbody>\n",
       "</table>\n",
       "</div>"
      ],
      "text/plain": [
       "         L1_density L1_delay   L1_Speed  L2_density L2_delay   L2_Speed  \\\n",
       "TIMEINT                                                                   \n",
       "0-120     12.673782    1.07%  46.577874    9.804311    0.07%  50.075657   \n",
       "120-240   28.942498    4.25%  33.108866   26.034601   32.64%   5.820800   \n",
       "240-360   53.845028   20.32%   7.171233   56.724373   24.38%  11.020206   \n",
       "360-480   78.791097   15.17%   4.711696   70.680201   15.58%   4.777044   \n",
       "480-600  100.023948   11.97%   4.854331   95.825772   11.41%   4.933205   \n",
       "\n",
       "         L3_density L3_delay   L3_Speed  L4_density L4_delay   L4_Speed  \\\n",
       "TIMEINT                                                                   \n",
       "0-120     28.981381   66.72%  15.524059   16.339342   52.81%  23.190971   \n",
       "120-240   44.872866   56.00%  18.267940   65.343887   98.14%   0.877539   \n",
       "240-360   67.365143   91.29%   3.514473   60.399107   84.88%   6.861350   \n",
       "360-480  101.066572   97.92%   0.780903  112.093061   98.13%   0.476917   \n",
       "480-600  101.529215   88.01%   5.036570  149.236093   97.78%   0.489577   \n",
       "\n",
       "         L5_density L5_delay   L5_Speed  \n",
       "TIMEINT                                  \n",
       "0-120      8.652817    0.00%  47.284638  \n",
       "120-240   15.811474    0.00%  45.391949  \n",
       "240-360   12.395948    1.56%  46.775803  \n",
       "360-480    0.000000    0.00%   0.000000  \n",
       "480-600   15.370634    1.70%  45.513834  "
      ]
     },
     "execution_count": 53,
     "metadata": {},
     "output_type": "execute_result"
    }
   ],
   "source": [
    "df_ourdec_link"
   ]
  },
  {
   "cell_type": "code",
   "execution_count": 46,
   "id": "ec0f16f4-d2a7-4dc8-b10c-e56dc35ffb21",
   "metadata": {},
   "outputs": [
    {
     "name": "stderr",
     "output_type": "stream",
     "text": [
      "/state/partition1/job-37600577/ipykernel_1475120/2247310544.py:1: SettingWithCopyWarning: \n",
      "A value is trying to be set on a copy of a slice from a DataFrame.\n",
      "Try using .loc[row_indexer,col_indexer] = value instead\n",
      "\n",
      "See the caveats in the documentation: https://pandas.pydata.org/pandas-docs/stable/user_guide/indexing.html#returning-a-view-versus-a-copy\n",
      "  df_ourdec_link[\"L1_density\"] = (400*df_ourdec_link[\"L1_density\"]+150*df_ourdec_link[\"L3_density\"])/550\n",
      "/state/partition1/job-37600577/ipykernel_1475120/2247310544.py:2: SettingWithCopyWarning: \n",
      "A value is trying to be set on a copy of a slice from a DataFrame.\n",
      "Try using .loc[row_indexer,col_indexer] = value instead\n",
      "\n",
      "See the caveats in the documentation: https://pandas.pydata.org/pandas-docs/stable/user_guide/indexing.html#returning-a-view-versus-a-copy\n",
      "  df_ourdec_link[\"L1_delay\"] = (df_ourdec_link[\"L1_delay\"].str[:-1]).astype(float)+(df_ourdec_link[\"L3_delay\"].str[:-1]).astype(float)\n",
      "/state/partition1/job-37600577/ipykernel_1475120/2247310544.py:3: SettingWithCopyWarning: \n",
      "A value is trying to be set on a copy of a slice from a DataFrame.\n",
      "Try using .loc[row_indexer,col_indexer] = value instead\n",
      "\n",
      "See the caveats in the documentation: https://pandas.pydata.org/pandas-docs/stable/user_guide/indexing.html#returning-a-view-versus-a-copy\n",
      "  df_ourdec_link[\"L1_Speed\"] = (550*df_ourdec_link[\"L1_Speed\"]*df_ourdec_link[\"L3_Speed\"])/(400*df_ourdec_link[\"L3_Speed\"]+150*df_ourdec_link[\"L1_Speed\"])\n"
     ]
    }
   ],
   "source": [
    "df_ourdec_link[\"L1_density\"] = (400*df_ourdec_link[\"L1_density\"]+150*df_ourdec_link[\"L3_density\"])/550\n",
    "df_ourdec_link[\"L1_delay\"] = (df_ourdec_link[\"L1_delay\"].str[:-1]).astype(float)+(df_ourdec_link[\"L3_delay\"].str[:-1]).astype(float)\n",
    "df_ourdec_link[\"L1_Speed\"] = (550*df_ourdec_link[\"L1_Speed\"]*df_ourdec_link[\"L3_Speed\"])/(400*df_ourdec_link[\"L3_Speed\"]+150*df_ourdec_link[\"L1_Speed\"])\n",
    "df_ourdec_link = df_ourdec_link.drop([\"L3_density\", \"L3_delay\", \"L3_Speed\"],axis=1)\n",
    "df_ourdec_link[\"L2_density\"] = (400*df_ourdec_link[\"L2_density\"]+150*df_ourdec_link[\"L4_density\"])/550\n",
    "df_ourdec_link[\"L2_delay\"] = (df_ourdec_link[\"L2_delay\"].str[:-1]).astype(float)+(df_ourdec_link[\"L4_delay\"].str[:-1]).astype(float)\n",
    "df_ourdec_link[\"L2_Speed\"] = (550*df_ourdec_link[\"L2_Speed\"]*df_ourdec_link[\"L4_Speed\"])/(400*df_ourdec_link[\"L2_Speed\"]+150*df_ourdec_link[\"L4_Speed\"])\n",
    "df_ourdec_link = df_ourdec_link.drop([\"L4_density\", \"L4_delay\", \"L4_Speed\"],axis=1)\n",
    "df_ourdec_link = df_ourdec_link.drop([\"L5_density\", \"L5_delay\", \"L5_Speed\"],axis=1)\n",
    "df_ourdec_link[\"Density Ratio\"] = df_ourdec_link[\"L1_density\"]/df_ourdec_link[\"L2_density\"]\n",
    "df_ourdec_link[\"Delay Ratio\"] = df_ourdec_link[\"L1_delay\"]/df_ourdec_link[\"L2_delay\"]\n",
    "df_ourdec_link[\"Speed Ratio\"] = df_ourdec_link[\"L1_Speed\"]/df_ourdec_link[\"L2_Speed\"]\n",
    "df_ourdec_link = df_ourdec_link.drop([\"L1_density\", \"L1_delay\", \"L1_Speed\"],axis=1)\n",
    "df_ourdec_link = df_ourdec_link.drop([\"L2_density\", \"L2_delay\", \"L2_Speed\"],axis=1)\n",
    "df_ourdec_link.replace([np.inf, -np.inf], np.nan, inplace=True)"
   ]
  },
  {
   "cell_type": "code",
   "execution_count": 47,
   "id": "a9c2351e-d2f4-411d-bd82-9960266dbbf7",
   "metadata": {},
   "outputs": [
    {
     "data": {
      "text/html": [
       "<div>\n",
       "<style scoped>\n",
       "    .dataframe tbody tr th:only-of-type {\n",
       "        vertical-align: middle;\n",
       "    }\n",
       "\n",
       "    .dataframe tbody tr th {\n",
       "        vertical-align: top;\n",
       "    }\n",
       "\n",
       "    .dataframe thead th {\n",
       "        text-align: right;\n",
       "    }\n",
       "</style>\n",
       "<table border=\"1\" class=\"dataframe\">\n",
       "  <thead>\n",
       "    <tr style=\"text-align: right;\">\n",
       "      <th></th>\n",
       "      <th>Density Ratio</th>\n",
       "      <th>Delay Ratio</th>\n",
       "      <th>Speed Ratio</th>\n",
       "    </tr>\n",
       "    <tr>\n",
       "      <th>TIMEINT</th>\n",
       "      <th></th>\n",
       "      <th></th>\n",
       "      <th></th>\n",
       "    </tr>\n",
       "  </thead>\n",
       "  <tbody>\n",
       "    <tr>\n",
       "      <th>0-120</th>\n",
       "      <td>1.477683</td>\n",
       "      <td>1.281959</td>\n",
       "      <td>1.109225</td>\n",
       "    </tr>\n",
       "    <tr>\n",
       "      <th>120-240</th>\n",
       "      <td>0.905642</td>\n",
       "      <td>0.460697</td>\n",
       "      <td>23.732450</td>\n",
       "    </tr>\n",
       "    <tr>\n",
       "      <th>240-360</th>\n",
       "      <td>0.996635</td>\n",
       "      <td>1.021508</td>\n",
       "      <td>0.730343</td>\n",
       "    </tr>\n",
       "    <tr>\n",
       "      <th>360-480</th>\n",
       "      <td>1.035274</td>\n",
       "      <td>0.994548</td>\n",
       "      <td>3.141451</td>\n",
       "    </tr>\n",
       "    <tr>\n",
       "      <th>480-600</th>\n",
       "      <td>0.909797</td>\n",
       "      <td>0.915652</td>\n",
       "      <td>7.554081</td>\n",
       "    </tr>\n",
       "  </tbody>\n",
       "</table>\n",
       "</div>"
      ],
      "text/plain": [
       "         Density Ratio  Delay Ratio  Speed Ratio\n",
       "TIMEINT                                         \n",
       "0-120         1.477683     1.281959     1.109225\n",
       "120-240       0.905642     0.460697    23.732450\n",
       "240-360       0.996635     1.021508     0.730343\n",
       "360-480       1.035274     0.994548     3.141451\n",
       "480-600       0.909797     0.915652     7.554081"
      ]
     },
     "execution_count": 47,
     "metadata": {},
     "output_type": "execute_result"
    }
   ],
   "source": [
    "df_ourdec_link"
   ]
  },
  {
   "cell_type": "code",
   "execution_count": 48,
   "id": "c29d49a0-63f7-4654-b64a-86c4cfbc8593",
   "metadata": {},
   "outputs": [
    {
     "data": {
      "image/png": "[encoded data removed]",
      "text/plain": [
       "<Figure size 432x288 with 1 Axes>"
      ]
     },
     "metadata": {
      "needs_background": "light"
     },
     "output_type": "display_data"
    }
   ],
   "source": [
    "fig = plt.figure()\n",
    "plt.plot(df_no_link[\"Density Ratio\"], label=\"No Signaling\")\n",
    "plt.plot(df_eq_link[\"Density Ratio\"], label=\"Equal Time Signaling\")\n",
    "plt.plot(df_scat_link[\"Density Ratio\"], label=\"SCAT\")\n",
    "plt.plot(df_scoot_link[\"Density Ratio\"], label=\"SCOOT\")\n",
    "plt.plot(df_ourdec_link[\"Density Ratio\"], label=\"Our Decentralized Protocol\")\n",
    "plt.legend()\n",
    "plt.ylabel(\"Density ratio between links\")\n",
    "plt.xlabel (\"Signaling Cycles (in Seconds Interval)\")\n",
    "plt.title(\"Density ratio on Single Lane Merge for 1:1 Load\")\n",
    "plt.show()\n",
    "plt.close(fig)"
   ]
  },
  {
   "cell_type": "code",
   "execution_count": 49,
   "id": "17f6733f-0211-40c1-8edb-93a763910e4d",
   "metadata": {},
   "outputs": [
    {
     "data": {
      "image/png": "[encoded data removed]",
      "text/plain": [
       "<Figure size 432x288 with 1 Axes>"
      ]
     },
     "metadata": {
      "needs_background": "light"
     },
     "output_type": "display_data"
    }
   ],
   "source": [
    "fig = plt.figure()\n",
    "plt.plot(df_no_link[\"Delay Ratio\"], label=\"No Signaling\")\n",
    "plt.plot(df_eq_link[\"Delay Ratio\"], label=\"Equal Time Signaling\")\n",
    "plt.plot(df_scat_link[\"Delay Ratio\"], label=\"SCAT\")\n",
    "plt.plot(df_scoot_link[\"Delay Ratio\"], label=\"SCOOT\")\n",
    "plt.plot(df_ourdec_link[\"Delay Ratio\"], label=\"Our Decentralized Protocol\")\n",
    "plt.legend()\n",
    "plt.ylabel(\"Delay ratio between links\")\n",
    "plt.xlabel (\"Signaling Cycles (in Seconds Interval)\")\n",
    "plt.title(\"Delay ratio on Single Lane Merge for 1:1 Load\")\n",
    "plt.show()\n",
    "plt.close(fig)"
   ]
  },
  {
   "cell_type": "code",
   "execution_count": 50,
   "id": "aa31bab4-efb7-49b7-84ad-2c5ba9f047d4",
   "metadata": {},
   "outputs": [
    {
     "data": {
      "image/png": "[encoded data removed]",
      "text/plain": [
       "<Figure size 432x288 with 1 Axes>"
      ]
     },
     "metadata": {
      "needs_background": "light"
     },
     "output_type": "display_data"
    }
   ],
   "source": [
    "fig = plt.figure()\n",
    "plt.plot(df_no_link[\"Speed Ratio\"], label=\"No Signaling\")\n",
    "plt.plot(df_eq_link[\"Speed Ratio\"], label=\"Equal Time Signaling\")\n",
    "plt.plot(df_scat_link[\"Speed Ratio\"], label=\"SCAT\")\n",
    "plt.plot(df_scoot_link[\"Speed Ratio\"], label=\"SCOOT\")\n",
    "plt.plot(df_ourdec_link[\"Speed Ratio\"], label=\"Our Decentralized Protocol\")\n",
    "plt.legend()\n",
    "plt.ylabel(\"Speed ratio between links\")\n",
    "plt.xlabel (\"Signaling Cycles (in Seconds Interval)\")\n",
    "plt.title(\"Speed ratio on Single Lane Merge for 1:1 Load\")\n",
    "plt.show()\n",
    "plt.close(fig)"
   ]
  },
  {
   "cell_type": "code",
   "execution_count": null,
   "id": "f41f31bb-8e73-4bec-abf8-78e6b385b92a",
   "metadata": {},
   "outputs": [],
   "source": []
  }
 ],
 "metadata": {
  "kernelspec": {
   "display_name": "Python 3 (ipykernel)",
   "language": "python",
   "name": "python3"
  },
  "language_info": {
   "codemirror_mode": {
    "name": "ipython",
    "version": 3
   },
   "file_extension": ".py",
   "mimetype": "text/x-python",
   "name": "python",
   "nbconvert_exporter": "python",
   "pygments_lexer": "ipython3",
   "version": "3.10.0"
  }
 },
 "nbformat": 4,
 "nbformat_minor": 5
}
